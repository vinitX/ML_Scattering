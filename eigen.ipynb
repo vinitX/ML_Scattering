{
 "cells": [
  {
   "cell_type": "code",
   "execution_count": 1,
   "metadata": {
    "collapsed": true
   },
   "outputs": [],
   "source": [
    "import numpy as np\n",
    "import matplotlib.pyplot as plt"
   ]
  },
  {
   "cell_type": "code",
   "execution_count": 2,
   "metadata": {
    "collapsed": true
   },
   "outputs": [],
   "source": [
    "n0=1\n",
    "k=1.381e-23\n",
    "T0=0\n",
    "m0=4*1.66054e-27\n",
    "m=9.11e-31\n",
    "E=1e-21*n0\n",
    "q=1.602e-19"
   ]
  },
  {
   "cell_type": "code",
   "execution_count": 76,
   "metadata": {
    "collapsed": true
   },
   "outputs": [],
   "source": [
    "n=1000\n",
    "B=np.zeros((n,1))\n",
    "A=np.zeros((n,n))\n",
    "\n",
    "vmin=1e3\n",
    "vmax=1*np.sqrt(24*1.602e-19/m)\n",
    "v=np.logspace(np.log10(vmin),np.log10(vmax),n)\n",
    "v=np.reshape(v,(n,1))\n",
    "ratio=(vmax/vmin)**(1.0/(n-1))\n",
    "dv=v[1:]-v[:n-1] #v*(ratio-1)"
   ]
  },
  {
   "cell_type": "code",
   "execution_count": 77,
   "metadata": {},
   "outputs": [
    {
     "data": {
      "text/plain": [
       "(1000, 1)"
      ]
     },
     "execution_count": 77,
     "metadata": {},
     "output_type": "execute_result"
    }
   ],
   "source": [
    "np.shape(v)"
   ]
  },
  {
   "cell_type": "code",
   "execution_count": 78,
   "metadata": {
    "collapsed": true
   },
   "outputs": [],
   "source": [
    "def vm(v):\n",
    "    return 5e-20*n0*np.sqrt(2/m*1.6e-19)\n",
    "def dvm(v):\n",
    "    return 0"
   ]
  },
  {
   "cell_type": "code",
   "execution_count": 89,
   "metadata": {
    "collapsed": true
   },
   "outputs": [],
   "source": [
    "def a(v):\n",
    "    return k*T0*vm(v)/m0 + q**2*E**2/(3*vm(v))\n",
    "def b(v):\n",
    "    return v**3*vm(v)*m/(m0*v**2) + 2*v*q**2*E**2/(m*vm(v))/(3*m*v**2)#(k*T0*(2*v*vm(v)+v**2*dvm(v))/m + v**3*vm(v))*m/(m0*v**2) -q*E*(v**2*q*E*dvm(v)/(m*vm(v)**2) - 2*v*q*E/(m*vm(v)))/(3*m*v**2)\n",
    "def c(v):\n",
    "    return m*((2*v*vm(v)+v**2*dvm(v))*v + v**2*vm(v))/(m0*v**2)"
   ]
  },
  {
   "cell_type": "code",
   "execution_count": 90,
   "metadata": {
    "collapsed": true
   },
   "outputs": [],
   "source": [
    "def alpha(i):\n",
    "    return a(v[i])/dv[i-1]**2\n",
    "def beta(i):\n",
    "    return -(2*a(v[i])/dv[i-1]**2+b(v[i])/dv[i-1])\n",
    "def gamma(i):\n",
    "    return a(v[i])/dv[i-1]**2+b(v[i])/dv[i-1]+c(v[i])"
   ]
  },
  {
   "cell_type": "code",
   "execution_count": 91,
   "metadata": {
    "collapsed": true
   },
   "outputs": [],
   "source": [
    "A[0,0]=1\n",
    "A[0,1]=-1\n",
    "for i in range(1,n-1):\n",
    "    A[i,i-1]=alpha(i)\n",
    "    A[i,i]=beta(i)\n",
    "    A[i,i+1]=gamma(i)\n",
    "A[n-1,n-1]=1"
   ]
  },
  {
   "cell_type": "code",
   "execution_count": 92,
   "metadata": {},
   "outputs": [
    {
     "data": {
      "text/plain": [
       "\"value, vector=np.linalg.eig(A)\\nprint(A,'\\n')\\nprint(value)\\nplt.plot(value)\\nplt.show()\\n#print(value)\\nplt.plot(vector[n-2,:])\\nplt.show()\""
      ]
     },
     "execution_count": 92,
     "metadata": {},
     "output_type": "execute_result"
    }
   ],
   "source": [
    "'''value, vector=np.linalg.eig(A)\n",
    "print(A,'\\n')\n",
    "print(value)\n",
    "plt.plot(value)\n",
    "plt.show()\n",
    "#print(value)\n",
    "plt.plot(vector[n-2,:])\n",
    "plt.show()'''"
   ]
  },
  {
   "cell_type": "code",
   "execution_count": 93,
   "metadata": {},
   "outputs": [],
   "source": [
    "import scipy\n",
    "from scipy import linalg, matrix\n",
    "def null(A, eps=1e-15):\n",
    "    u, s, vh = scipy.linalg.svd(A)\n",
    "    null_mask = (s <= eps)\n",
    "    null_space = scipy.compress(null_mask, vh, axis=0)\n",
    "    return scipy.transpose(null_space)"
   ]
  },
  {
   "cell_type": "code",
   "execution_count": 105,
   "metadata": {},
   "outputs": [
    {
     "data": {
      "image/png": "[encoded data removed]",
      "text/plain": [
       "<matplotlib.figure.Figure at 0x7ff7405e1c88>"
      ]
     },
     "metadata": {},
     "output_type": "display_data"
    },
    {
     "data": {
      "image/png": "[encoded data removed]",
      "text/plain": [
       "<matplotlib.figure.Figure at 0x7ff752fccb38>"
      ]
     },
     "metadata": {},
     "output_type": "display_data"
    }
   ],
   "source": [
    "f0=null(A,3e-17)[:n-1]\n",
    "f0=f0/np.sum(f0*dv) #Normalising f0\n",
    "plt.plot(v[:n-1],f0)\n",
    "plt.show()\n",
    "plt.loglog(v[:n-1],f0)\n",
    "plt.show()"
   ]
  },
  {
   "cell_type": "code",
   "execution_count": 106,
   "metadata": {},
   "outputs": [
    {
     "data": {
      "image/png": "[encoded data removed]",
      "text/plain": [
       "<matplotlib.figure.Figure at 0x7ff752fe9e80>"
      ]
     },
     "metadata": {},
     "output_type": "display_data"
    },
    {
     "data": {
      "image/png": "[encoded data removed]",
      "text/plain": [
       "<matplotlib.figure.Figure at 0x7ff752aaa860>"
      ]
     },
     "metadata": {},
     "output_type": "display_data"
    }
   ],
   "source": [
    "f1=-q*E*(f0[1:]-f0[:n-2])/dv[:n-2]/(m*vm(v[:n-2]))\n",
    "plt.plot(f1[:n-2])\n",
    "plt.show()\n",
    "plt.loglog(v[:n-2],f1[:n-2])\n",
    "plt.show()"
   ]
  },
  {
   "cell_type": "code",
   "execution_count": 107,
   "metadata": {},
   "outputs": [
    {
     "data": {
      "image/png": "[encoded data removed]",
      "text/plain": [
       "<matplotlib.figure.Figure at 0x7ff74300cdd8>"
      ]
     },
     "metadata": {},
     "output_type": "display_data"
    }
   ],
   "source": [
    "W=np.sum(dv[:n-2]*f1[:n-2]*v[:n-2])\n",
    "plt.plot(dv[:n-2]*f1[:n-2]*v[:n-2])\n",
    "plt.show()"
   ]
  },
  {
   "cell_type": "code",
   "execution_count": 110,
   "metadata": {},
   "outputs": [
    {
     "data": {
      "image/png": "[encoded data removed]",
      "text/plain": [
       "<matplotlib.figure.Figure at 0x7ff752f432e8>"
      ]
     },
     "metadata": {},
     "output_type": "display_data"
    }
   ],
   "source": [
    "eps=np.sum(0.5*m*v[:n-1]**2*f0*dv)/2#np.sum(0.5*m*v**2*f0*dv)\n",
    "plt.loglog(v[:n-1]**2*f0*dv)\n",
    "plt.show()"
   ]
  },
  {
   "cell_type": "code",
   "execution_count": 111,
   "metadata": {},
   "outputs": [
    {
     "name": "stdout",
     "output_type": "stream",
     "text": [
      "0.588901060067 0.75637897125\n"
     ]
    }
   ],
   "source": [
    "print(W/1e4,eps/1.6e-19)"
   ]
  },
  {
   "cell_type": "code",
   "execution_count": 112,
   "metadata": {
    "collapsed": true
   },
   "outputs": [],
   "source": [
    "W0=0.593e4\n",
    "eps0=0.7291*1.6e-19"
   ]
  },
  {
   "cell_type": "code",
   "execution_count": 113,
   "metadata": {},
   "outputs": [
    {
     "name": "stdout",
     "output_type": "stream",
     "text": [
      "0.691220899296 -3.74145813329\n"
     ]
    }
   ],
   "source": [
    "print((1-W/W0)*100,(1-eps/eps0)*100)"
   ]
  },
  {
   "cell_type": "code",
   "execution_count": 119,
   "metadata": {},
   "outputs": [
    {
     "name": "stdout",
     "output_type": "stream",
     "text": [
      "2.88680842283e-67\n"
     ]
    },
    {
     "data": {
      "image/png": "[encoded data removed]",
      "text/plain": [
       "<matplotlib.figure.Figure at 0x7ff7400d6630>"
      ]
     },
     "metadata": {},
     "output_type": "display_data"
    },
    {
     "data": {
      "image/png": "[encoded data removed]",
      "text/plain": [
       "<matplotlib.figure.Figure at 0x7ff7528b3128>"
      ]
     },
     "metadata": {},
     "output_type": "display_data"
    }
   ],
   "source": [
    "print(a(v))\n",
    "plt.loglog(v,b(v))\n",
    "plt.show()\n",
    "plt.loglog(v,c(v))\n",
    "plt.show()"
   ]
  },
  {
   "cell_type": "code",
   "execution_count": null,
   "metadata": {
    "collapsed": true
   },
   "outputs": [],
   "source": []
  }
 ],
 "metadata": {
  "kernelspec": {
   "display_name": "Python 3",
   "language": "python",
   "name": "python3"
  },
  "language_info": {
   "codemirror_mode": {
    "name": "ipython",
    "version": 3
   },
   "file_extension": ".py",
   "mimetype": "text/x-python",
   "name": "python",
   "nbconvert_exporter": "python",
   "pygments_lexer": "ipython3",
   "version": "3.6.3"
  }
 },
 "nbformat": 4,
 "nbformat_minor": 2
}
