{
 "cells": [
  {
   "cell_type": "code",
   "execution_count": 90,
   "metadata": {},
   "outputs": [],
   "source": [
    "import numpy as np\n",
    "import matplotlib.pyplot as plt\n",
    "import time\n",
    "from subprocess import Popen, PIPE\n",
    "\n",
    "def surge_exp(E,p,lmbd,E_th):\n",
    "    x=E-E_th\n",
    "    return np.heaviside(x,1)*((np.exp(1)/lmbd)**p)*(x**p)*np.exp(-p*x/lmbd)\n",
    "    \n",
    "def surge_pwr(E,p,lmbd,E_th):\n",
    "    x=E-E_th\n",
    "    return np.heaviside(x,1)*(lmbd**p)*(p+1)**(p+1)*x/(x+p*lmbd)**(p+1)"
   ]
  },
  {
   "cell_type": "code",
   "execution_count": 120,
   "metadata": {},
   "outputs": [
    {
     "data": {
      "text/plain": [
       "\"    \\nConstrain the optimization to the region of 0 <= a <= 3, 0 <= b <= 1 and 0 <= c <= 0.5:\\n\\n>>>\\n>>> popt, pcov = curve_fit(func, xdata, ydata, bounds=(0, [3., 1., 0.5]))\\n>>> popt\\narray([ 2.43708906,  1.        ,  0.35015434])\\n>>> plt.plot(xdata, func(xdata, *popt), 'g--',\\n...          label='fit: a=%5.3f, b=%5.3f, c=%5.3f' % tuple(popt))\\n>>>\\n>>> plt.xlabel('x')\\n>>> plt.ylabel('y')\\n>>> plt.legend()\\n>>> plt.show()\\n\""
      ]
     },
     "execution_count": 120,
     "metadata": {},
     "output_type": "execute_result"
    }
   ],
   "source": [
    "from scipy.optimize import curve_fit\n",
    "\n",
    "def optimize(A):\n",
    "    x=A[:,0]\n",
    "    y=A[:,1]\n",
    "    \n",
    "    print(x)\n",
    "    plt.loglog(x,y,'b-')\n",
    "    popt, pcov = curve_fit(surge_pwr, x, y, bounds=([1,1,-100],[3,100,100]))\n",
    "    print(popt)\n",
    "    plt.loglog(x, surge_pwr(x, *popt), 'r-')\n",
    "    plt.show()\n",
    "\n",
    "'''    \n",
    "Constrain the optimization to the region of 0 <= a <= 3, 0 <= b <= 1 and 0 <= c <= 0.5:\n",
    "\n",
    ">>>\n",
    ">>> popt, pcov = curve_fit(func, xdata, ydata, bounds=(0, [3., 1., 0.5]))\n",
    ">>> popt\n",
    "array([ 2.43708906,  1.        ,  0.35015434])\n",
    ">>> plt.plot(xdata, func(xdata, *popt), 'g--',\n",
    "...          label='fit: a=%5.3f, b=%5.3f, c=%5.3f' % tuple(popt))\n",
    ">>>\n",
    ">>> plt.xlabel('x')\n",
    ">>> plt.ylabel('y')\n",
    ">>> plt.legend()\n",
    ">>> plt.show()\n",
    "'''"
   ]
  },
  {
   "cell_type": "code",
   "execution_count": 239,
   "metadata": {},
   "outputs": [],
   "source": [
    "import tensorflow as tf\n",
    "\n",
    "def optimize(A):\n",
    "    sig=tf.nn.relu(tf.Variable(1, dtype=tf.float32))\n",
    "    p = tf.nn.relu(tf.Variable(1, dtype=tf.float32))\n",
    "    lmbd = tf.nn.relu(tf.Variable(10, dtype=tf.float32))\n",
    "    E_th = tf.Variable(10, dtype=tf.float32)\n",
    "    x=A[:,0]-E_th\n",
    "    y=A[:,1]\n",
    "    surge=sig*(tf.sign(x)+1)*0.5*tf.pow(lmbd,p)*tf.pow(p+1,p+1)*x/tf.pow(tf.nn.relu(x+p*lmbd),p+1)\n",
    "    #loss=tf.reduce_sum(tf.square(surge-y))\n",
    "    loss=tf.reduce_sum(tf.abs(tf.log(y/surge)))\n",
    "    \n",
    "    optimizer = tf.train.GradientDescentOptimizer(0.0001)\n",
    "    train = optimizer.minimize(loss)\n",
    "\n",
    "    init = tf.initializers.global_variables()\n",
    "    hist=[]\n",
    "    with tf.Session() as session:\n",
    "        session.run(init)\n",
    "        for step in range(10):  \n",
    "            print(session.run(sig),session.run(p),session.run(lmbd),session.run(E_th),session.run(loss))\n",
    "            #plt.loglog(session.run(surge))\n",
    "            #plt.show()\n",
    "            session.run(train)\n",
    "            hist.append(np.max(session.run(loss)))\n",
    "        print(session.run(sig),session.run(p),session.run(lmbd),session.run(E_th),session.run(loss))\n",
    "        plt.plot(A[:,0],A[:,1])\n",
    "        plt.plot(A[:,0],session.run(surge))\n",
    "        plt.show()\n",
    "    plt.plot(hist)\n",
    "    plt.show()"
   ]
  },
  {
   "cell_type": "code",
   "execution_count": 217,
   "metadata": {},
   "outputs": [],
   "source": [
    "def ReadDatabase(f):\n",
    "    print(\"Happy that I am called!\")\n",
    "    for line in f:\n",
    "        A=[]\n",
    "        if line[:5]=='-----':\n",
    "            while 1:\n",
    "                temp_line=f.readline()\n",
    "                if temp_line[:5]=='-----':\n",
    "                    break\n",
    "                A.append([float(x) for x in temp_line.strip().split()])\n",
    "            A=np.array(A)\n",
    "            \n",
    "            if len(A)>0:\n",
    "                print(np.shape(A))\n",
    "                A[:,1]=A[:,1]*1e20\n",
    "                optimize(A)\n",
    "                return\n",
    "            f.readline()\n",
    "            collision_type=f.readline()\n",
    "            if collision_type[:5]=='xxxxx' or collision_type[:5]=='*****': return\n",
    "            else: print(collision_type)\n",
    "    \n",
    "def ReadInput():\n",
    "    f=open(\"Ar.txt\",\"r\")\n",
    "    for line in f:\n",
    "        if line[:5]=='*****':\n",
    "            f.readline()\n",
    "            temp_line=f.readline()\n",
    "            if(temp_line.strip()=='ELASTIC'):\n",
    "                print(temp_line)\n",
    "                ReadDatabase(f)\n",
    "                break\n",
    "    f.close()\n",
    "        "
   ]
  },
  {
   "cell_type": "code",
   "execution_count": 218,
   "metadata": {},
   "outputs": [],
   "source": [
    "def Input(Y,m):\n",
    "    A=Y[:m]\n",
    "    p=Y[m:2*m]\n",
    "    lmbd=Y[2*m:3*m]\n",
    "    E_th=Y[3*m:]\n",
    "    \n",
    "    n=500\n",
    "    E=np.logspace(-1,3,n)\n",
    "    \n",
    "    sigma_m=0\n",
    "    for i in range(m):\n",
    "        sigma_m+=A[i]*1e-20*surge_pwr(E,p[i],lmbd[i],E_th[i])\n",
    "    \n",
    "    f=open(\"LXCat0.txt\",\"w\")\n",
    "    f.write('----------------------\\n')\n",
    "    f.write('ELASTIC\\nAr\\n')\n",
    "    f.write('1.371541e-4 / mass ratio\\n')\n",
    "    f.write('----------------------\\n')\n",
    "    \n",
    "    for i in range(n):\n",
    "        f.write(str(E[i])+' '+str(sigma_m[i])+'\\n')\n",
    "\n",
    "    '''\n",
    "    f.write('----------------------\\n')\n",
    "    f.write('EXCITATION\\nSurge\\n')\n",
    "    f.write(str(E_th)+' / Thresold Energy\\n')\n",
    "    f.write('1.371541e-4 / mass ratio\\n')\n",
    "    f.write('----------------------\\n')\n",
    "    sigma_exc=slope*(E-E_th)*np.heaviside(E-E_th,1)\n",
    "    for i in range(n):\n",
    "        f.write(str(E[i])+' '+str(sigma_exc[i])+'\\n')\n",
    "    '''\n",
    "\n",
    "    plt.loglog(E,(sigma_m)*1e20)\n",
    "    plt.show()\n",
    "    \n",
    "    f.close()\n",
    "    \n",
    "def ex(grid=100,E_min=1e-3,E_max=1e3,n=1000):\n",
    "        f=open(\"ex.dat\",\"w\")\n",
    "        f.write(\"READCOLLISIONS\\n\")\n",
    "        f.write(\"LXCat0.txt\\nSurge\\n1\\n\")\n",
    "        f.write(\"CONDITIONS\\n\")\n",
    "        f.write(\"1       / Electric field / N (Td)\\n\")\n",
    "        f.write(\"0        / Angular field frequency / N (m3/s)\\n\")\n",
    "        f.write(\"0.        / Cosine of E-B field angle\\n\")\n",
    "        f.write(\"0.       / Gas temperature (K)\\n\")\n",
    "        f.write(\"300.      / Excitation temperature (K)\\n\")\n",
    "        f.write(\"0.        / Transition energy (eV)\\n\")\n",
    "        f.write(\"0.        / Ionization degree\\n\")\n",
    "        f.write(\"1e-6      / Plasma density (1/m3)\\n\")\n",
    "        f.write(\"1.        / Ion charge parameter\\n\")\n",
    "        f.write(\"1.        / Ion/neutral mass ratio\\n\")\n",
    "        f.write(\"1         / e-e momentum effects: 0=No; 1=Yes*\\n\")\n",
    "        f.write(\"1         / Energy sharing: 1=Equal*; 2=One takes all\\n\")\n",
    "        f.write(\"1         / Growth: 1=Temporal*; 2=Spatial; 3=Not included; 4=Grad-n expansion\\n\")\n",
    "        f.write(\"0.        / Maxwellian mean energy (eV) \\n\")\n",
    "        f.write(str(grid)+\"      / # of grid points\\n\")\n",
    "        f.write(\"0         / Manual grid: 0=No; 1=Linear; 2=Parabolic \\n\")\n",
    "        f.write(\"1000.      / Manual maximum energy (eV)\\n\")\n",
    "        f.write(\"1e-10     / Precision\\n\")\n",
    "        f.write(\"1e-5      / Convergence\\n\")\n",
    "        f.write(\"1000      / Maximum # of iterations\\n\")\n",
    "        f.write(\"1        / Gas composition fractions\\n\")\n",
    "        f.write(\"1         / Normalize composition to unity: 0=No; 1=Yes\\n\")\n",
    "        f.write(\"RUNSERIES\\n\")\n",
    "        f.write(\"1          / Variable: 1=E/N; 2=Mean energy; 3=Maxwellian energy \\n\")\n",
    "        f.write(str(E_min)+\" \"+str(E_max)+\"  / Min Max\\n\")\n",
    "        f.write(str(n)+\"         / Number \\n\")\n",
    "        f.write(\"3          / Type: 1=Linear; 2=Quadratic; 3=Exponential\\n\")\n",
    "        f.write(\"SAVERESULTS\\n\")\n",
    "        f.write(\"Surge.dat        / File \\n\")\n",
    "        f.write(\"3        / Format: 1=Run by run; 2=Combined; 3=E/N; 4=Energy; 5=SIGLO; 6=PLASIMO\\n\")\n",
    "        f.write(\"1        / Conditions: 0=No; 1=Yes\\n\")\n",
    "        f.write(\"1        / Transport coefficients: 0=No; 1=Yes\\n\")\n",
    "        f.write(\"1        / Rate coefficients: 0=No; 1=Yes\\n\")\n",
    "        f.write(\"0        / Reverse rate coefficients: 0=No; 1=Yes\\n\")\n",
    "        f.write(\"0        / Energy loss coefficients: 0=No; 1=Yes\\n\")\n",
    "        f.write(\"1        / Distribution function: 0=No; 1=Yes \\n\")\n",
    "        f.write(\"0        / Skip failed runs: 0=No; 1=Yes\\n\")\n",
    "        f.write(\"END\")\n",
    "        f.close()\n",
    "        \n",
    "def Bolsig():\n",
    "    t=time.time()\n",
    "    process = Popen(['./bolsigminus', 'ex.dat'], stdout=PIPE, stderr=PIPE)\n",
    "    stdout, stderr = process.communicate()\n",
    "    #print (stdout)\n"
   ]
  },
  {
   "cell_type": "code",
   "execution_count": 219,
   "metadata": {},
   "outputs": [],
   "source": [
    "def Output(n=1000):\n",
    "    f=open(\"Surge.dat\",\"r\")\n",
    "    \n",
    "    E=np.zeros(n)\n",
    "    out=np.zeros((n,3))\n",
    "    for line in f:\n",
    "        if line[:8]=='E/N (Td)' and line[8:].strip()=='Mean energy (eV)':\n",
    "            for i in range(n):\n",
    "                l=f.readline().strip()\n",
    "                if len(l)==0: break\n",
    "                E[i], out[i,0] = [float(x) for x in l.split()]\n",
    "        if line[:8]=='E/N (Td)' and line[8:].strip()=='Mobility *N (1/m/V/s)':\n",
    "            for i in range(n):\n",
    "                l=f.readline().strip()\n",
    "                if len(l)==0: break\n",
    "                E[i], out[i,1] = [float(x) for x in l.split()]\n",
    "        if line[:8]=='E/N (Td)' and line[8:].strip()=='Diffusion coefficient *N (1/m/s)':\n",
    "            for i in range(n):\n",
    "                l=f.readline().strip()\n",
    "                if len(l)==0: break\n",
    "                E[i], out[i,2] = [float(x) for x in l.split()]\n",
    "\n",
    "    out[:,1]=out[:,1]*E*1e-21 #Drift Velocity\n",
    "    out[:,2]=out[:,2]*1e-24 #Diffusion coefficient\n",
    "    \n",
    "    plt.loglog(E,out[:,0])\n",
    "    plt.loglog(E,out[:,1])\n",
    "    plt.loglog(E,out[:,2])\n",
    "    plt.show()\n",
    "    \n",
    "    #print('time:',time.time()-t)\n",
    "    return np.log10(out)"
   ]
  },
  {
   "cell_type": "code",
   "execution_count": 220,
   "metadata": {},
   "outputs": [
    {
     "data": {
      "text/plain": [
       "\"\\ncross=open('Y.csv','wb')\\ntrans=open('X.csv','wb')\\n\\nn=1\\n\\nt=time.time()\\n\\nfor i in range(n):\\n    Y=ReadInput()\\n    Y=Extrapolate(Y)\\n    np.savetxt(cross,np.reshape(Y,(1,-1)),delimiter=',')\\n    \\n    Input(Y[i,:],m)\\n    ex(grid=100,E_min=0.1,E_max=1e3,n=1000) #n cannot be more than 1000\\n    Bolsig()\\n    X=Output(n=1000)\\n    np.savetxt(trans,np.reshape(X,(1,-1)),delimiter=',')\\n    print(Y[i,:m],Y[i,m:2*m],Y[i,2*m:3*m],Y[i,3*m:],i,end=' ')\\nprint(time.time()-t)\\ncross.close()\\ntrans.close()\\n\""
      ]
     },
     "execution_count": 220,
     "metadata": {},
     "output_type": "execute_result"
    }
   ],
   "source": [
    "'''\n",
    "cross=open('Y.csv','wb')\n",
    "trans=open('X.csv','wb')\n",
    "\n",
    "n=1\n",
    "\n",
    "t=time.time()\n",
    "\n",
    "for i in range(n):\n",
    "    Y=ReadInput()\n",
    "    Y=Extrapolate(Y)\n",
    "    np.savetxt(cross,np.reshape(Y,(1,-1)),delimiter=',')\n",
    "    \n",
    "    Input(Y[i,:],m)\n",
    "    ex(grid=100,E_min=0.1,E_max=1e3,n=1000) #n cannot be more than 1000\n",
    "    Bolsig()\n",
    "    X=Output(n=1000)\n",
    "    np.savetxt(trans,np.reshape(X,(1,-1)),delimiter=',')\n",
    "    print(Y[i,:m],Y[i,m:2*m],Y[i,2*m:3*m],Y[i,3*m:],i,end=' ')\n",
    "print(time.time()-t)\n",
    "cross.close()\n",
    "trans.close()\n",
    "'''"
   ]
  },
  {
   "cell_type": "code",
   "execution_count": 240,
   "metadata": {},
   "outputs": [
    {
     "name": "stdout",
     "output_type": "stream",
     "text": [
      "ELASTIC\n",
      "\n",
      "Happy that I am called!\n",
      "(282, 2)\n",
      "nan nan nan nan\n"
     ]
    },
    {
     "data": {
      "image/png": "[encoded data removed]",
      "text/plain": [
       "<Figure size 432x288 with 1 Axes>"
      ]
     },
     "metadata": {
      "needs_background": "light"
     },
     "output_type": "display_data"
    },
    {
     "data": {
      "image/png": "[encoded data removed]",
      "text/plain": [
       "<Figure size 432x288 with 1 Axes>"
      ]
     },
     "metadata": {
      "needs_background": "light"
     },
     "output_type": "display_data"
    },
    {
     "name": "stdout",
     "output_type": "stream",
     "text": [
      "EXCITATION\n",
      "\n",
      "(400, 2)\n",
      "nan nan nan nan\n"
     ]
    },
    {
     "data": {
      "image/png": "[encoded data removed]",
      "text/plain": [
       "<Figure size 432x288 with 1 Axes>"
      ]
     },
     "metadata": {
      "needs_background": "light"
     },
     "output_type": "display_data"
    },
    {
     "data": {
      "image/png": "[encoded data removed]",
      "text/plain": [
       "<Figure size 432x288 with 1 Axes>"
      ]
     },
     "metadata": {
      "needs_background": "light"
     },
     "output_type": "display_data"
    },
    {
     "name": "stdout",
     "output_type": "stream",
     "text": [
      "EXCITATION\n",
      "\n",
      "(214, 2)\n"
     ]
    },
    {
     "ename": "KeyboardInterrupt",
     "evalue": "",
     "output_type": "error",
     "traceback": [
      "\u001b[0;31m---------------------------------------------------------------------------\u001b[0m",
      "\u001b[0;31mKeyboardInterrupt\u001b[0m                         Traceback (most recent call last)",
      "\u001b[0;32m<ipython-input-240-30feb12789fa>\u001b[0m in \u001b[0;36m<module>\u001b[0;34m\u001b[0m\n\u001b[0;32m----> 1\u001b[0;31m \u001b[0mReadInput\u001b[0m\u001b[0;34m(\u001b[0m\u001b[0;34m)\u001b[0m\u001b[0;34m\u001b[0m\u001b[0;34m\u001b[0m\u001b[0m\n\u001b[0m",
      "\u001b[0;32m<ipython-input-217-f8f55d2c0061>\u001b[0m in \u001b[0;36mReadInput\u001b[0;34m()\u001b[0m\n\u001b[1;32m     29\u001b[0m             \u001b[0;32mif\u001b[0m\u001b[0;34m(\u001b[0m\u001b[0mtemp_line\u001b[0m\u001b[0;34m.\u001b[0m\u001b[0mstrip\u001b[0m\u001b[0;34m(\u001b[0m\u001b[0;34m)\u001b[0m\u001b[0;34m==\u001b[0m\u001b[0;34m'ELASTIC'\u001b[0m\u001b[0;34m)\u001b[0m\u001b[0;34m:\u001b[0m\u001b[0;34m\u001b[0m\u001b[0;34m\u001b[0m\u001b[0m\n\u001b[1;32m     30\u001b[0m                 \u001b[0mprint\u001b[0m\u001b[0;34m(\u001b[0m\u001b[0mtemp_line\u001b[0m\u001b[0;34m)\u001b[0m\u001b[0;34m\u001b[0m\u001b[0;34m\u001b[0m\u001b[0m\n\u001b[0;32m---> 31\u001b[0;31m                 \u001b[0mReadDatabase\u001b[0m\u001b[0;34m(\u001b[0m\u001b[0mf\u001b[0m\u001b[0;34m)\u001b[0m\u001b[0;34m\u001b[0m\u001b[0;34m\u001b[0m\u001b[0m\n\u001b[0m\u001b[1;32m     32\u001b[0m                 \u001b[0;32mbreak\u001b[0m\u001b[0;34m\u001b[0m\u001b[0;34m\u001b[0m\u001b[0m\n\u001b[1;32m     33\u001b[0m     \u001b[0mf\u001b[0m\u001b[0;34m.\u001b[0m\u001b[0mclose\u001b[0m\u001b[0;34m(\u001b[0m\u001b[0;34m)\u001b[0m\u001b[0;34m\u001b[0m\u001b[0;34m\u001b[0m\u001b[0m\n",
      "\u001b[0;32m<ipython-input-217-f8f55d2c0061>\u001b[0m in \u001b[0;36mReadDatabase\u001b[0;34m(f)\u001b[0m\n\u001b[1;32m     14\u001b[0m                 \u001b[0mprint\u001b[0m\u001b[0;34m(\u001b[0m\u001b[0mnp\u001b[0m\u001b[0;34m.\u001b[0m\u001b[0mshape\u001b[0m\u001b[0;34m(\u001b[0m\u001b[0mA\u001b[0m\u001b[0;34m)\u001b[0m\u001b[0;34m)\u001b[0m\u001b[0;34m\u001b[0m\u001b[0;34m\u001b[0m\u001b[0m\n\u001b[1;32m     15\u001b[0m                 \u001b[0mA\u001b[0m\u001b[0;34m[\u001b[0m\u001b[0;34m:\u001b[0m\u001b[0;34m,\u001b[0m\u001b[0;36m1\u001b[0m\u001b[0;34m]\u001b[0m\u001b[0;34m=\u001b[0m\u001b[0mA\u001b[0m\u001b[0;34m[\u001b[0m\u001b[0;34m:\u001b[0m\u001b[0;34m,\u001b[0m\u001b[0;36m1\u001b[0m\u001b[0;34m]\u001b[0m\u001b[0;34m*\u001b[0m\u001b[0;36m1e20\u001b[0m\u001b[0;34m\u001b[0m\u001b[0;34m\u001b[0m\u001b[0m\n\u001b[0;32m---> 16\u001b[0;31m                 \u001b[0moptimize\u001b[0m\u001b[0;34m(\u001b[0m\u001b[0mA\u001b[0m\u001b[0;34m)\u001b[0m\u001b[0;34m\u001b[0m\u001b[0;34m\u001b[0m\u001b[0m\n\u001b[0m\u001b[1;32m     17\u001b[0m                 \u001b[0;31m#return\u001b[0m\u001b[0;34m\u001b[0m\u001b[0;34m\u001b[0m\u001b[0;34m\u001b[0m\u001b[0m\n\u001b[1;32m     18\u001b[0m             \u001b[0mf\u001b[0m\u001b[0;34m.\u001b[0m\u001b[0mreadline\u001b[0m\u001b[0;34m(\u001b[0m\u001b[0;34m)\u001b[0m\u001b[0;34m\u001b[0m\u001b[0;34m\u001b[0m\u001b[0m\n",
      "\u001b[0;32m<ipython-input-239-4b04ba919316>\u001b[0m in \u001b[0;36moptimize\u001b[0;34m(A)\u001b[0m\n\u001b[1;32m     25\u001b[0m             \u001b[0msession\u001b[0m\u001b[0;34m.\u001b[0m\u001b[0mrun\u001b[0m\u001b[0;34m(\u001b[0m\u001b[0mtrain\u001b[0m\u001b[0;34m)\u001b[0m\u001b[0;34m\u001b[0m\u001b[0;34m\u001b[0m\u001b[0m\n\u001b[1;32m     26\u001b[0m             \u001b[0mhist\u001b[0m\u001b[0;34m.\u001b[0m\u001b[0mappend\u001b[0m\u001b[0;34m(\u001b[0m\u001b[0mnp\u001b[0m\u001b[0;34m.\u001b[0m\u001b[0mmax\u001b[0m\u001b[0;34m(\u001b[0m\u001b[0msession\u001b[0m\u001b[0;34m.\u001b[0m\u001b[0mrun\u001b[0m\u001b[0;34m(\u001b[0m\u001b[0mloss\u001b[0m\u001b[0;34m)\u001b[0m\u001b[0;34m)\u001b[0m\u001b[0;34m)\u001b[0m\u001b[0;34m\u001b[0m\u001b[0;34m\u001b[0m\u001b[0m\n\u001b[0;32m---> 27\u001b[0;31m         \u001b[0mprint\u001b[0m\u001b[0;34m(\u001b[0m\u001b[0msession\u001b[0m\u001b[0;34m.\u001b[0m\u001b[0mrun\u001b[0m\u001b[0;34m(\u001b[0m\u001b[0msig\u001b[0m\u001b[0;34m)\u001b[0m\u001b[0;34m,\u001b[0m\u001b[0msession\u001b[0m\u001b[0;34m.\u001b[0m\u001b[0mrun\u001b[0m\u001b[0;34m(\u001b[0m\u001b[0mp\u001b[0m\u001b[0;34m)\u001b[0m\u001b[0;34m,\u001b[0m\u001b[0msession\u001b[0m\u001b[0;34m.\u001b[0m\u001b[0mrun\u001b[0m\u001b[0;34m(\u001b[0m\u001b[0mlmbd\u001b[0m\u001b[0;34m)\u001b[0m\u001b[0;34m,\u001b[0m\u001b[0msession\u001b[0m\u001b[0;34m.\u001b[0m\u001b[0mrun\u001b[0m\u001b[0;34m(\u001b[0m\u001b[0mE_th\u001b[0m\u001b[0;34m)\u001b[0m\u001b[0;34m)\u001b[0m\u001b[0;34m\u001b[0m\u001b[0;34m\u001b[0m\u001b[0m\n\u001b[0m\u001b[1;32m     28\u001b[0m         \u001b[0mplt\u001b[0m\u001b[0;34m.\u001b[0m\u001b[0mplot\u001b[0m\u001b[0;34m(\u001b[0m\u001b[0mA\u001b[0m\u001b[0;34m[\u001b[0m\u001b[0;34m:\u001b[0m\u001b[0;34m,\u001b[0m\u001b[0;36m0\u001b[0m\u001b[0;34m]\u001b[0m\u001b[0;34m,\u001b[0m\u001b[0mA\u001b[0m\u001b[0;34m[\u001b[0m\u001b[0;34m:\u001b[0m\u001b[0;34m,\u001b[0m\u001b[0;36m1\u001b[0m\u001b[0;34m]\u001b[0m\u001b[0;34m)\u001b[0m\u001b[0;34m\u001b[0m\u001b[0;34m\u001b[0m\u001b[0m\n\u001b[1;32m     29\u001b[0m         \u001b[0mplt\u001b[0m\u001b[0;34m.\u001b[0m\u001b[0mplot\u001b[0m\u001b[0;34m(\u001b[0m\u001b[0mA\u001b[0m\u001b[0;34m[\u001b[0m\u001b[0;34m:\u001b[0m\u001b[0;34m,\u001b[0m\u001b[0;36m0\u001b[0m\u001b[0;34m]\u001b[0m\u001b[0;34m,\u001b[0m\u001b[0msession\u001b[0m\u001b[0;34m.\u001b[0m\u001b[0mrun\u001b[0m\u001b[0;34m(\u001b[0m\u001b[0msurge\u001b[0m\u001b[0;34m)\u001b[0m\u001b[0;34m)\u001b[0m\u001b[0;34m\u001b[0m\u001b[0;34m\u001b[0m\u001b[0m\n",
      "\u001b[0;32m~/anaconda3/envs/tensorflow/lib/python3.6/site-packages/tensorflow/python/client/session.py\u001b[0m in \u001b[0;36mrun\u001b[0;34m(self, fetches, feed_dict, options, run_metadata)\u001b[0m\n\u001b[1;32m    927\u001b[0m     \u001b[0;32mtry\u001b[0m\u001b[0;34m:\u001b[0m\u001b[0;34m\u001b[0m\u001b[0;34m\u001b[0m\u001b[0m\n\u001b[1;32m    928\u001b[0m       result = self._run(None, fetches, feed_dict, options_ptr,\n\u001b[0;32m--> 929\u001b[0;31m                          run_metadata_ptr)\n\u001b[0m\u001b[1;32m    930\u001b[0m       \u001b[0;32mif\u001b[0m \u001b[0mrun_metadata\u001b[0m\u001b[0;34m:\u001b[0m\u001b[0;34m\u001b[0m\u001b[0;34m\u001b[0m\u001b[0m\n\u001b[1;32m    931\u001b[0m         \u001b[0mproto_data\u001b[0m \u001b[0;34m=\u001b[0m \u001b[0mtf_session\u001b[0m\u001b[0;34m.\u001b[0m\u001b[0mTF_GetBuffer\u001b[0m\u001b[0;34m(\u001b[0m\u001b[0mrun_metadata_ptr\u001b[0m\u001b[0;34m)\u001b[0m\u001b[0;34m\u001b[0m\u001b[0;34m\u001b[0m\u001b[0m\n",
      "\u001b[0;32m~/anaconda3/envs/tensorflow/lib/python3.6/site-packages/tensorflow/python/client/session.py\u001b[0m in \u001b[0;36m_run\u001b[0;34m(self, handle, fetches, feed_dict, options, run_metadata)\u001b[0m\n\u001b[1;32m   1150\u001b[0m     \u001b[0;32mif\u001b[0m \u001b[0mfinal_fetches\u001b[0m \u001b[0;32mor\u001b[0m \u001b[0mfinal_targets\u001b[0m \u001b[0;32mor\u001b[0m \u001b[0;34m(\u001b[0m\u001b[0mhandle\u001b[0m \u001b[0;32mand\u001b[0m \u001b[0mfeed_dict_tensor\u001b[0m\u001b[0;34m)\u001b[0m\u001b[0;34m:\u001b[0m\u001b[0;34m\u001b[0m\u001b[0;34m\u001b[0m\u001b[0m\n\u001b[1;32m   1151\u001b[0m       results = self._do_run(handle, final_targets, final_fetches,\n\u001b[0;32m-> 1152\u001b[0;31m                              feed_dict_tensor, options, run_metadata)\n\u001b[0m\u001b[1;32m   1153\u001b[0m     \u001b[0;32melse\u001b[0m\u001b[0;34m:\u001b[0m\u001b[0;34m\u001b[0m\u001b[0;34m\u001b[0m\u001b[0m\n\u001b[1;32m   1154\u001b[0m       \u001b[0mresults\u001b[0m \u001b[0;34m=\u001b[0m \u001b[0;34m[\u001b[0m\u001b[0;34m]\u001b[0m\u001b[0;34m\u001b[0m\u001b[0;34m\u001b[0m\u001b[0m\n",
      "\u001b[0;32m~/anaconda3/envs/tensorflow/lib/python3.6/site-packages/tensorflow/python/client/session.py\u001b[0m in \u001b[0;36m_do_run\u001b[0;34m(self, handle, target_list, fetch_list, feed_dict, options, run_metadata)\u001b[0m\n\u001b[1;32m   1326\u001b[0m     \u001b[0;32mif\u001b[0m \u001b[0mhandle\u001b[0m \u001b[0;32mis\u001b[0m \u001b[0;32mNone\u001b[0m\u001b[0;34m:\u001b[0m\u001b[0;34m\u001b[0m\u001b[0;34m\u001b[0m\u001b[0m\n\u001b[1;32m   1327\u001b[0m       return self._do_call(_run_fn, feeds, fetches, targets, options,\n\u001b[0;32m-> 1328\u001b[0;31m                            run_metadata)\n\u001b[0m\u001b[1;32m   1329\u001b[0m     \u001b[0;32melse\u001b[0m\u001b[0;34m:\u001b[0m\u001b[0;34m\u001b[0m\u001b[0;34m\u001b[0m\u001b[0m\n\u001b[1;32m   1330\u001b[0m       \u001b[0;32mreturn\u001b[0m \u001b[0mself\u001b[0m\u001b[0;34m.\u001b[0m\u001b[0m_do_call\u001b[0m\u001b[0;34m(\u001b[0m\u001b[0m_prun_fn\u001b[0m\u001b[0;34m,\u001b[0m \u001b[0mhandle\u001b[0m\u001b[0;34m,\u001b[0m \u001b[0mfeeds\u001b[0m\u001b[0;34m,\u001b[0m \u001b[0mfetches\u001b[0m\u001b[0;34m)\u001b[0m\u001b[0;34m\u001b[0m\u001b[0;34m\u001b[0m\u001b[0m\n",
      "\u001b[0;32m~/anaconda3/envs/tensorflow/lib/python3.6/site-packages/tensorflow/python/client/session.py\u001b[0m in \u001b[0;36m_do_call\u001b[0;34m(self, fn, *args)\u001b[0m\n\u001b[1;32m   1332\u001b[0m   \u001b[0;32mdef\u001b[0m \u001b[0m_do_call\u001b[0m\u001b[0;34m(\u001b[0m\u001b[0mself\u001b[0m\u001b[0;34m,\u001b[0m \u001b[0mfn\u001b[0m\u001b[0;34m,\u001b[0m \u001b[0;34m*\u001b[0m\u001b[0margs\u001b[0m\u001b[0;34m)\u001b[0m\u001b[0;34m:\u001b[0m\u001b[0;34m\u001b[0m\u001b[0;34m\u001b[0m\u001b[0m\n\u001b[1;32m   1333\u001b[0m     \u001b[0;32mtry\u001b[0m\u001b[0;34m:\u001b[0m\u001b[0;34m\u001b[0m\u001b[0;34m\u001b[0m\u001b[0m\n\u001b[0;32m-> 1334\u001b[0;31m       \u001b[0;32mreturn\u001b[0m \u001b[0mfn\u001b[0m\u001b[0;34m(\u001b[0m\u001b[0;34m*\u001b[0m\u001b[0margs\u001b[0m\u001b[0;34m)\u001b[0m\u001b[0;34m\u001b[0m\u001b[0;34m\u001b[0m\u001b[0m\n\u001b[0m\u001b[1;32m   1335\u001b[0m     \u001b[0;32mexcept\u001b[0m \u001b[0merrors\u001b[0m\u001b[0;34m.\u001b[0m\u001b[0mOpError\u001b[0m \u001b[0;32mas\u001b[0m \u001b[0me\u001b[0m\u001b[0;34m:\u001b[0m\u001b[0;34m\u001b[0m\u001b[0;34m\u001b[0m\u001b[0m\n\u001b[1;32m   1336\u001b[0m       \u001b[0mmessage\u001b[0m \u001b[0;34m=\u001b[0m \u001b[0mcompat\u001b[0m\u001b[0;34m.\u001b[0m\u001b[0mas_text\u001b[0m\u001b[0;34m(\u001b[0m\u001b[0me\u001b[0m\u001b[0;34m.\u001b[0m\u001b[0mmessage\u001b[0m\u001b[0;34m)\u001b[0m\u001b[0;34m\u001b[0m\u001b[0;34m\u001b[0m\u001b[0m\n",
      "\u001b[0;32m~/anaconda3/envs/tensorflow/lib/python3.6/site-packages/tensorflow/python/client/session.py\u001b[0m in \u001b[0;36m_run_fn\u001b[0;34m(feed_dict, fetch_list, target_list, options, run_metadata)\u001b[0m\n\u001b[1;32m   1317\u001b[0m       \u001b[0mself\u001b[0m\u001b[0;34m.\u001b[0m\u001b[0m_extend_graph\u001b[0m\u001b[0;34m(\u001b[0m\u001b[0;34m)\u001b[0m\u001b[0;34m\u001b[0m\u001b[0;34m\u001b[0m\u001b[0m\n\u001b[1;32m   1318\u001b[0m       return self._call_tf_sessionrun(\n\u001b[0;32m-> 1319\u001b[0;31m           options, feed_dict, fetch_list, target_list, run_metadata)\n\u001b[0m\u001b[1;32m   1320\u001b[0m \u001b[0;34m\u001b[0m\u001b[0m\n\u001b[1;32m   1321\u001b[0m     \u001b[0;32mdef\u001b[0m \u001b[0m_prun_fn\u001b[0m\u001b[0;34m(\u001b[0m\u001b[0mhandle\u001b[0m\u001b[0;34m,\u001b[0m \u001b[0mfeed_dict\u001b[0m\u001b[0;34m,\u001b[0m \u001b[0mfetch_list\u001b[0m\u001b[0;34m)\u001b[0m\u001b[0;34m:\u001b[0m\u001b[0;34m\u001b[0m\u001b[0;34m\u001b[0m\u001b[0m\n",
      "\u001b[0;32m~/anaconda3/envs/tensorflow/lib/python3.6/site-packages/tensorflow/python/client/session.py\u001b[0m in \u001b[0;36m_call_tf_sessionrun\u001b[0;34m(self, options, feed_dict, fetch_list, target_list, run_metadata)\u001b[0m\n\u001b[1;32m   1405\u001b[0m     return tf_session.TF_SessionRun_wrapper(\n\u001b[1;32m   1406\u001b[0m         \u001b[0mself\u001b[0m\u001b[0;34m.\u001b[0m\u001b[0m_session\u001b[0m\u001b[0;34m,\u001b[0m \u001b[0moptions\u001b[0m\u001b[0;34m,\u001b[0m \u001b[0mfeed_dict\u001b[0m\u001b[0;34m,\u001b[0m \u001b[0mfetch_list\u001b[0m\u001b[0;34m,\u001b[0m \u001b[0mtarget_list\u001b[0m\u001b[0;34m,\u001b[0m\u001b[0;34m\u001b[0m\u001b[0;34m\u001b[0m\u001b[0m\n\u001b[0;32m-> 1407\u001b[0;31m         run_metadata)\n\u001b[0m\u001b[1;32m   1408\u001b[0m \u001b[0;34m\u001b[0m\u001b[0m\n\u001b[1;32m   1409\u001b[0m   \u001b[0;32mdef\u001b[0m \u001b[0m_call_tf_sessionprun\u001b[0m\u001b[0;34m(\u001b[0m\u001b[0mself\u001b[0m\u001b[0;34m,\u001b[0m \u001b[0mhandle\u001b[0m\u001b[0;34m,\u001b[0m \u001b[0mfeed_dict\u001b[0m\u001b[0;34m,\u001b[0m \u001b[0mfetch_list\u001b[0m\u001b[0;34m)\u001b[0m\u001b[0;34m:\u001b[0m\u001b[0;34m\u001b[0m\u001b[0;34m\u001b[0m\u001b[0m\n",
      "\u001b[0;31mKeyboardInterrupt\u001b[0m: "
     ]
    }
   ],
   "source": [
    "ReadInput()"
   ]
  },
  {
   "cell_type": "code",
   "execution_count": null,
   "metadata": {},
   "outputs": [],
   "source": []
  }
 ],
 "metadata": {
  "kernelspec": {
   "display_name": "Python 3",
   "language": "python",
   "name": "python3"
  },
  "language_info": {
   "codemirror_mode": {
    "name": "ipython",
    "version": 3
   },
   "file_extension": ".py",
   "mimetype": "text/x-python",
   "name": "python",
   "nbconvert_exporter": "python",
   "pygments_lexer": "ipython3",
   "version": "3.6.8"
  }
 },
 "nbformat": 4,
 "nbformat_minor": 2
}
