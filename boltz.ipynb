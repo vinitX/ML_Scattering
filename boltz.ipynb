{
 "cells": [
  {
   "cell_type": "code",
   "execution_count": 245,
   "metadata": {},
   "outputs": [],
   "source": [
    "import numpy as np\n",
    "import matplotlib.pyplot as plt"
   ]
  },
  {
   "cell_type": "code",
   "execution_count": 313,
   "metadata": {},
   "outputs": [],
   "source": [
    "n=500\n",
    "B=np.zeros((n,1))\n",
    "A=np.zeros((n,n))\n",
    "\n",
    "dx=np.sqrt(24)/n\n",
    "x=np.arange(0,n*dx,dx)"
   ]
  },
  {
   "cell_type": "code",
   "execution_count": 314,
   "metadata": {},
   "outputs": [
    {
     "name": "stdout",
     "output_type": "stream",
     "text": [
      "7291.585127201565\n"
     ]
    }
   ],
   "source": [
    "m0=4*931.5/0.511\n",
    "print(m0)"
   ]
  },
  {
   "cell_type": "code",
   "execution_count": 320,
   "metadata": {
    "collapsed": true
   },
   "outputs": [],
   "source": [
    "def vm(x):\n",
    "    return 5*np.sqrt(2)"
   ]
  },
  {
   "cell_type": "code",
   "execution_count": 321,
   "metadata": {
    "collapsed": true
   },
   "outputs": [],
   "source": [
    "def a(x):\n",
    "    return 1/(3*vm(x))\n",
    "def b(x):\n",
    "    return x*vm(x)/m0+2/(3*x*vm(x))\n",
    "def c(x):\n",
    "    return 3*vm(x)/m0"
   ]
  },
  {
   "cell_type": "code",
   "execution_count": 322,
   "metadata": {},
   "outputs": [],
   "source": [
    "def p(x):\n",
    "    return a(x)/dx**2\n",
    "def q(x):\n",
    "    return -(2*a(x)/dx**2+b(x)/dx)\n",
    "def r(x):\n",
    "    return a(x)/dx**2+b(x)/dx+c(x)"
   ]
  },
  {
   "cell_type": "code",
   "execution_count": 323,
   "metadata": {},
   "outputs": [],
   "source": [
    "B[0,0]=1\n",
    "B[1,0]=1\n",
    "\n",
    "A[0,0]=1\n",
    "A[1,1]=1\n",
    "for i in range(2,n-1):\n",
    "    A[i,i-2]=p(x[i])\n",
    "    A[i,i-1]=q(x[i])\n",
    "    A[i,i]=r(x[i])\n",
    "A[n-1,n-1]=1    \n",
    "#print(A,np.matmul(np.linalg.inv(A),b))       "
   ]
  },
  {
   "cell_type": "code",
   "execution_count": 324,
   "metadata": {},
   "outputs": [
    {
     "data": {
      "image/png": "[encoded data removed]",
      "text/plain": [
       "<matplotlib.figure.Figure at 0x7ff7a8cbdc18>"
      ]
     },
     "metadata": {},
     "output_type": "display_data"
    }
   ],
   "source": [
    "plt.plot(x,np.matmul(np.linalg.inv(A),B))\n",
    "plt.show()"
   ]
  },
  {
   "cell_type": "code",
   "execution_count": null,
   "metadata": {},
   "outputs": [],
   "source": []
  },
  {
   "cell_type": "code",
   "execution_count": 342,
   "metadata": {},
   "outputs": [],
   "source": [
    "vm=1/(0.5931e4*9.1e-31/1.6e-31/1e-21)"
   ]
  },
  {
   "cell_type": "code",
   "execution_count": 344,
   "metadata": {},
   "outputs": [
    {
     "data": {
      "text/plain": [
       "7.030582674567608e-53"
      ]
     },
     "execution_count": 344,
     "metadata": {},
     "output_type": "execute_result"
    }
   ],
   "source": [
    "2*(vm/5)**2"
   ]
  },
  {
   "cell_type": "code",
   "execution_count": null,
   "metadata": {
    "collapsed": true
   },
   "outputs": [],
   "source": []
  }
 ],
 "metadata": {
  "kernelspec": {
   "display_name": "Python 3",
   "language": "python",
   "name": "python3"
  },
  "language_info": {
   "codemirror_mode": {
    "name": "ipython",
    "version": 3
   },
   "file_extension": ".py",
   "mimetype": "text/x-python",
   "name": "python",
   "nbconvert_exporter": "python",
   "pygments_lexer": "ipython3",
   "version": "3.6.3"
  }
 },
 "nbformat": 4,
 "nbformat_minor": 2
}
