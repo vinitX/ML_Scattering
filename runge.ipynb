{
 "cells": [
  {
   "cell_type": "code",
   "execution_count": 82,
   "metadata": {
    "collapsed": true
   },
   "outputs": [],
   "source": [
    "import numpy as np\n",
    "import matplotlib.pyplot as plt"
   ]
  },
  {
   "cell_type": "code",
   "execution_count": 105,
   "metadata": {
    "collapsed": true
   },
   "outputs": [],
   "source": [
    "n0=1\n",
    "k=1.381e-23\n",
    "T0=0\n",
    "m0=4*1.66054e-27\n",
    "m=9.11e-31\n",
    "E=1e-21*n0\n",
    "q=1.602e-19"
   ]
  },
  {
   "cell_type": "code",
   "execution_count": 106,
   "metadata": {
    "collapsed": true
   },
   "outputs": [],
   "source": [
    "n=100\n",
    "B=np.zeros((n,1))\n",
    "A=np.zeros((n,n))\n",
    "\n",
    "vmin=1e-3\n",
    "vmax=1*np.sqrt(24*1.602e-19/m)\n",
    "v=np.logspace(np.log10(vmin),np.log10(vmax),n)\n",
    "v=np.reshape(v,(n,1))\n",
    "\n",
    "dv=v[:n-1]-v[1:]#v*((np.sqrt(24*1.602e-19/m)/1e-10)**(1/(n-1))-1)"
   ]
  },
  {
   "cell_type": "code",
   "execution_count": 107,
   "metadata": {
    "collapsed": true
   },
   "outputs": [],
   "source": [
    "def vm(v):\n",
    "    return 5e-20*n0*np.sqrt(2/m*1.6e-19)\n",
    "def dvm(v):\n",
    "    return 0"
   ]
  },
  {
   "cell_type": "code",
   "execution_count": 108,
   "metadata": {
    "collapsed": true
   },
   "outputs": [],
   "source": [
    "#they are wrong\n",
    "def a(v):\n",
    "    return k*T0*vm(v)/m0 + q**2*E**2/(3*vm(v))\n",
    "def b(v):\n",
    "    return (k*T0*(2*v*vm(v)+v**2*dvm(v))/m + v**3*vm(v))*m/(m0*v**2) -q*E*(v**2*q*E*dvm(v)/(m*vm(v)**2) - 2*v*q*E/(m*vm(v)))/(3*m*v**2)\n",
    "def c(v):\n",
    "    return m*((2*v*vm(v)+v**2*dvm(v))*v + v**2*vm(v))/(m0*v**2)"
   ]
  },
  {
   "cell_type": "code",
   "execution_count": 109,
   "metadata": {
    "collapsed": true
   },
   "outputs": [],
   "source": [
    "def f1(f,g,v):\n",
    "    return g\n",
    "def f2(f,g,v):\n",
    "    return -b(v)*g/a(v)-c(v)*f/a(v)"
   ]
  },
  {
   "cell_type": "code",
   "execution_count": 110,
   "metadata": {},
   "outputs": [
    {
     "data": {
      "image/png": "[encoded data removed]",
      "text/plain": [
       "<matplotlib.figure.Figure at 0x7f3a3c061cc0>"
      ]
     },
     "metadata": {},
     "output_type": "display_data"
    },
    {
     "data": {
      "image/png": "[encoded data removed]",
      "text/plain": [
       "<matplotlib.figure.Figure at 0x7f3a30012940>"
      ]
     },
     "metadata": {},
     "output_type": "display_data"
    }
   ],
   "source": [
    "f=np.zeros(n)\n",
    "g=-np.ones(n)\n",
    "for i in range(n-1,0,-1):\n",
    "    k11=dv[i-1]*f1(f[i],g[i],v[i])\n",
    "    k21=dv[i-1]*f2(f[i],g[i],v[i])\n",
    "    k12=dv[i-1]*f1(f[i]+0.5*k11,g[i]+0.5*k21,v[i]+0.5*dv[i-1])\n",
    "    k22=dv[i-1]*f2(f[i]+0.5*k11,g[i]+0.5*k21,v[i]+0.5*dv[i-1]);\n",
    "    k13=dv[i-1]*f1(f[i]+0.5*k12,g[i]+0.5*k22,v[i]+0.5*dv[i-1]);\n",
    "    k23=dv[i-1]*f2(f[i]+0.5*k12,g[i]+0.5*k22,v[i]+0.5*dv[i-1]);\n",
    "    k14=dv[i-1]*f1(f[i]+k13,g[i]+k23,v[i]+dv[i-1]) #v[i-1]) #v[i]+dv[i]);\n",
    "    k24=dv[i-1]*f2(f[i]+k13,g[i]+k23,v[i]+dv[i-1]) #v[i-1]) #v[i]+dv[i]);\n",
    "    f[i-1]=f[i]+(k11+2*k12+2*k13+k14)/6\n",
    "    g[i-1]=g[i]+(k21+2*k22+2*k23+k24)/6\n",
    "    norm=np.max(np.abs(f))#max(np.max(np.abs(f)),np.max(np.abs(g)))\n",
    "    f=f/norm\n",
    "    g=g/norm\n",
    "    \n",
    "plt.loglog(v,f)\n",
    "plt.show()\n",
    "plt.semilogx(v,g)\n",
    "plt.show()"
   ]
  },
  {
   "cell_type": "code",
   "execution_count": null,
   "metadata": {
    "collapsed": true
   },
   "outputs": [],
   "source": []
  },
  {
   "cell_type": "code",
   "execution_count": null,
   "metadata": {
    "collapsed": true
   },
   "outputs": [],
   "source": []
  }
 ],
 "metadata": {
  "kernelspec": {
   "display_name": "Python 3",
   "language": "python",
   "name": "python3"
  },
  "language_info": {
   "codemirror_mode": {
    "name": "ipython",
    "version": 3
   },
   "file_extension": ".py",
   "mimetype": "text/x-python",
   "name": "python",
   "nbconvert_exporter": "python",
   "pygments_lexer": "ipython3",
   "version": "3.6.3"
  }
 },
 "nbformat": 4,
 "nbformat_minor": 2
}
