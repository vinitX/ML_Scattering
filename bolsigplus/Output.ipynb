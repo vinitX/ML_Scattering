{
 "cells": [
  {
   "cell_type": "code",
   "execution_count": 2,
   "metadata": {},
   "outputs": [],
   "source": [
    "import numpy as np\n",
    "import matplotlib.pyplot as plt"
   ]
  },
  {
   "cell_type": "code",
   "execution_count": 3,
   "metadata": {},
   "outputs": [],
   "source": [
    "f=open(\"Reid.dat\",\"r\")"
   ]
  },
  {
   "cell_type": "code",
   "execution_count": 4,
   "metadata": {},
   "outputs": [
    {
     "name": "stdout",
     "output_type": "stream",
     "text": [
      "[ 1.     1.04   1.082  1.126  1.171  1.218  1.268  1.319  1.372  1.427\n",
      "  1.485  1.544  1.607  1.671  1.739  1.809  1.882  1.958  2.037  2.119\n",
      "  2.204  2.293  2.385  2.481  2.581  2.686  2.794  2.906  3.024  3.145\n",
      "  3.272  3.404  3.541  3.684  3.833  3.987  4.148  4.315  4.489  4.67\n",
      "  4.858  5.054  5.257  5.469  5.69   5.919  6.158  6.406  6.664  6.933\n",
      "  7.212  7.503  7.805  8.12   8.447  8.788  9.142  9.51   9.894 10.29\n",
      " 10.71  11.14  11.59  12.05  12.54  13.05  13.57  14.12  14.69  15.28\n",
      " 15.9   16.54  17.2   17.9   18.62  19.37  20.15  20.96  21.81  22.69\n",
      " 23.6   24.55  25.54  26.57  27.64  28.75  29.91  31.12  32.37  33.68\n",
      " 35.04  36.45  37.92  39.45  41.04  42.69  44.41  46.2   48.06  50.   ] [0.1017 0.1027 0.1036 0.1046 0.1056 0.1066 0.1077 0.1088 0.1099 0.1111\n",
      " 0.1123 0.1136 0.1148 0.1162 0.1175 0.1189 0.1204 0.1218 0.1234 0.1249\n",
      " 0.1266 0.1282 0.13   0.1317 0.1336 0.1355 0.1374 0.1394 0.1415 0.1436\n",
      " 0.1458 0.1481 0.1504 0.1528 0.1553 0.1579 0.1606 0.1633 0.1661 0.169\n",
      " 0.172  0.1751 0.1783 0.1816 0.185  0.1885 0.1921 0.1959 0.1997 0.2037\n",
      " 0.2078 0.212  0.2164 0.2209 0.2255 0.2303 0.2353 0.2403 0.2456 0.251\n",
      " 0.2566 0.2624 0.2683 0.2744 0.2807 0.2872 0.2939 0.3008 0.3079 0.3153\n",
      " 0.3228 0.3306 0.3386 0.3469 0.3554 0.3641 0.3732 0.3824 0.392  0.4019\n",
      " 0.412  0.4224 0.4332 0.4442 0.4556 0.4673 0.4793 0.4917 0.5045 0.5176\n",
      " 0.5311 0.5449 0.5592 0.5739 0.589  0.6045 0.6204 0.6368 0.6537 0.671 ]\n"
     ]
    }
   ],
   "source": [
    "n=100\n",
    "for line in f:\n",
    "    if line[:8]=='E/N (Td)' and line[8:].strip()=='Mean energy (eV)':\n",
    "        a=np.zeros(n)\n",
    "        b=np.zeros(n)\n",
    "        for i in range(n):\n",
    "            l=f.readline().strip()\n",
    "            if len(l)==0: break\n",
    "            a[i], b[i] = [float(x) for x in l.split()]\n",
    "\n",
    "print(a,b)"
   ]
  },
  {
   "cell_type": "code",
   "execution_count": 15,
   "metadata": {},
   "outputs": [
    {
     "name": "stdout",
     "output_type": "stream",
     "text": [
      "0.017935971087829072\n"
     ]
    },
    {
     "data": {
      "image/png": "[encoded data removed]",
      "text/plain": [
       "<Figure size 432x288 with 1 Axes>"
      ]
     },
     "metadata": {
      "needs_background": "light"
     },
     "output_type": "display_data"
    }
   ],
   "source": [
    "plt.plot(a,b)\n",
    "p=np.polyfit(a,b,3)\n",
    "b_=np.polyval(p,a)\n",
    "plt.plot(a,b_)\n",
    "err=np.sqrt(np.sum((b_-b)**2))\n",
    "print(err)\n",
    "plt.scatter([1,12,24],[0.1015,0.2689,0.4080])\n",
    "plt.show()"
   ]
  }
 ],
 "metadata": {
  "kernelspec": {
   "display_name": "Python 3",
   "language": "python",
   "name": "python3"
  },
  "language_info": {
   "codemirror_mode": {
    "name": "ipython",
    "version": 3
   },
   "file_extension": ".py",
   "mimetype": "text/x-python",
   "name": "python",
   "nbconvert_exporter": "python",
   "pygments_lexer": "ipython3",
   "version": "3.6.8"
  }
 },
 "nbformat": 4,
 "nbformat_minor": 2
}
