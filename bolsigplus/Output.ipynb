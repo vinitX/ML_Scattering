{
 "cells": [
  {
   "cell_type": "code",
   "execution_count": 63,
   "metadata": {
    "collapsed": true
   },
   "outputs": [],
   "source": [
    "import numpy as np\n",
    "import matplotlib.pyplot as plt"
   ]
  },
  {
   "cell_type": "code",
   "execution_count": 64,
   "metadata": {},
   "outputs": [],
   "source": [
    "f=open(\"Power.dat\",\"r\")"
   ]
  },
  {
   "cell_type": "code",
   "execution_count": 65,
   "metadata": {},
   "outputs": [
    {
     "name": "stdout",
     "output_type": "stream",
     "text": [
      "[  0.4      0.4414   0.4871   0.5376   0.5932   0.6547   0.7225   0.7973\n",
      "   0.8799   0.971    1.072    1.182    1.305    1.44     1.589    1.754\n",
      "   1.935    2.136    2.357    2.601    2.87     3.168    3.496    3.858\n",
      "   4.257    4.698    5.184    5.721    6.314    6.968    7.689    8.485\n",
      "   9.364   10.33    11.4     12.58    13.89    15.33    16.91    18.67\n",
      "  20.6     22.73    25.08    27.68    30.55    33.71    37.2     41.06\n",
      "  45.31    50.    ] [ 0.03789  0.03789  0.03789  0.0379   0.0379   0.03791  0.03791  0.03792\n",
      "  0.03793  0.03794  0.03796  0.03798  0.038    0.03803  0.03806  0.0381\n",
      "  0.03815  0.03821  0.03828  0.03837  0.03847  0.03861  0.03876  0.03896\n",
      "  0.0392   0.03948  0.03983  0.04026  0.04078  0.04141  0.04218  0.04312\n",
      "  0.04427  0.04566  0.04736  0.04942  0.05194  0.055    0.05873  0.06327\n",
      "  0.06881  0.07555  0.08375  0.09375  0.1059   0.1207   0.1388   0.1608\n",
      "  0.1875   0.2201 ]\n"
     ]
    }
   ],
   "source": [
    "n=50\n",
    "for line in f:\n",
    "    if line[:8]=='E/N (Td)' and line[8:].strip()=='Mean energy (eV)':\n",
    "        a=np.zeros(n)\n",
    "        b=np.zeros(n)\n",
    "        for i in range(n):\n",
    "            l=f.readline().strip()\n",
    "            if len(l)==0: break\n",
    "            a[i], b[i] = [float(x) for x in l.split()]\n",
    "\n",
    "print(a,b)"
   ]
  },
  {
   "cell_type": "code",
   "execution_count": 66,
   "metadata": {},
   "outputs": [
    {
     "data": {
      "image/png": "[encoded data removed]",
      "text/plain": [
       "<matplotlib.figure.Figure at 0x7f4bb4db0160>"
      ]
     },
     "metadata": {},
     "output_type": "display_data"
    }
   ],
   "source": [
    "plt.loglog(a,b)\n",
    "plt.show()"
   ]
  },
  {
   "cell_type": "code",
   "execution_count": 67,
   "metadata": {},
   "outputs": [
    {
     "data": {
      "text/plain": [
       "0.02124999999999999"
      ]
     },
     "execution_count": 67,
     "metadata": {},
     "output_type": "execute_result"
    }
   ],
   "source": [
    "0.75057-0.72932"
   ]
  },
  {
   "cell_type": "code",
   "execution_count": 68,
   "metadata": {},
   "outputs": [
    {
     "data": {
      "text/plain": [
       "0.03786999999999996"
      ]
     },
     "execution_count": 68,
     "metadata": {},
     "output_type": "execute_result"
    }
   ],
   "source": [
    "0.76703-0.72916"
   ]
  },
  {
   "cell_type": "code",
   "execution_count": null,
   "metadata": {
    "collapsed": true
   },
   "outputs": [],
   "source": []
  }
 ],
 "metadata": {
  "kernelspec": {
   "display_name": "Python 3",
   "language": "python",
   "name": "python3"
  },
  "language_info": {
   "codemirror_mode": {
    "name": "ipython",
    "version": 3
   },
   "file_extension": ".py",
   "mimetype": "text/x-python",
   "name": "python",
   "nbconvert_exporter": "python",
   "pygments_lexer": "ipython3",
   "version": "3.6.3"
  }
 },
 "nbformat": 4,
 "nbformat_minor": 2
}
