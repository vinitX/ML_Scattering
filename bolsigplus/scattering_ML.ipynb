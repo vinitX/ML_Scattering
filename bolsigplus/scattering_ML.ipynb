{
 "cells": [
  {
   "cell_type": "code",
   "execution_count": 13,
   "metadata": {},
   "outputs": [],
   "source": [
    "import tensorflow as tf\n",
    "#mnist = tf.keras.datasets.mnist\n",
    "import numpy as np"
   ]
  },
  {
   "cell_type": "code",
   "execution_count": 14,
   "metadata": {},
   "outputs": [
    {
     "name": "stdout",
     "output_type": "stream",
     "text": [
      "(5, 4) (5, 3) (2, 4) (2, 3)\n",
      "[[ 2.62746118e-06 -2.84397254e-04  2.00851425e-02  3.07106810e-01]\n",
      " [ 2.62746118e-06 -2.84397254e-04  2.00851425e-02  3.07106810e-01]\n",
      " [ 2.62746118e-06 -2.84397254e-04  2.00851425e-02  3.07106810e-01]\n",
      " [ 2.62746118e-06 -2.84397254e-04  2.00851425e-02  3.07106810e-01]\n",
      " [ 2.62746118e-06 -2.84397254e-04  2.00851425e-02  3.07106810e-01]]\n",
      "[[3.78880559e-20 5.74386721e-01 9.66101937e-20]\n",
      " [3.79919016e-20 4.88132576e-01 3.45764687e-20]\n",
      " [5.47015743e-20 7.40782801e-01 5.12464305e-20]\n",
      " [8.05328995e-20 3.49202022e-01 2.85359901e-20]\n",
      " [1.95475457e-20 4.83718533e-01 5.95841803e-20]]\n",
      "[[ 1.88649868e-06 -2.15242885e-04  1.80337257e-02  1.82678367e-01]\n",
      " [ 1.88649868e-06 -2.15242885e-04  1.80337257e-02  1.82678367e-01]]\n",
      "[[5.68061074e-20 3.67499024e-01 9.55290516e-20]\n",
      " [2.81715737e-20 6.88324684e-01 4.64102029e-20]]\n"
     ]
    }
   ],
   "source": [
    "x_train=np.loadtxt('X_train.dat',delimiter=',')\n",
    "y_train=np.loadtxt('Y_train.dat',delimiter=',')\n",
    "x_test=np.loadtxt('X_test.dat',delimiter=',')\n",
    "y_test=np.loadtxt('Y_test.dat',delimiter=',')\n",
    "\n",
    "print(np.shape(x_train),np.shape(y_train),np.shape(x_test),np.shape(y_test))\n",
    "print(x_train)\n",
    "print(y_train)\n",
    "print(x_test)\n",
    "print(y_test)\n",
    "#(x_train, y_train),(x_test, y_test) = mnist.load_data()\n",
    "#x_train, x_test = x_train / 255.0, x_test / 255.0"
   ]
  },
  {
   "cell_type": "code",
   "execution_count": 8,
   "metadata": {},
   "outputs": [
    {
     "name": "stdout",
     "output_type": "stream",
     "text": [
      "Epoch 1/10\n",
      "10/10 [==============================] - 0s 12ms/step - loss: 0.2045 - acc: 0.8000\n",
      "Epoch 2/10\n",
      "10/10 [==============================] - 0s 80us/step - loss: 0.2022 - acc: 0.8000\n",
      "Epoch 3/10\n",
      "10/10 [==============================] - 0s 108us/step - loss: 0.1999 - acc: 0.8000\n",
      "Epoch 4/10\n",
      "10/10 [==============================] - 0s 200us/step - loss: 0.1977 - acc: 0.8000\n",
      "Epoch 5/10\n",
      "10/10 [==============================] - 0s 266us/step - loss: 0.1955 - acc: 0.8000\n",
      "Epoch 6/10\n",
      "10/10 [==============================] - 0s 272us/step - loss: 0.1934 - acc: 0.8000\n",
      "Epoch 7/10\n",
      "10/10 [==============================] - 0s 122us/step - loss: 0.1912 - acc: 0.8000\n",
      "Epoch 8/10\n",
      "10/10 [==============================] - 0s 113us/step - loss: 0.1891 - acc: 0.8000\n",
      "Epoch 9/10\n",
      "10/10 [==============================] - 0s 113us/step - loss: 0.1869 - acc: 0.8000\n",
      "Epoch 10/10\n",
      "10/10 [==============================] - 0s 116us/step - loss: 0.1847 - acc: 0.8000\n",
      "2/2 [==============================] - 0s 18ms/step\n"
     ]
    },
    {
     "data": {
      "text/plain": [
       "[0.18195994198322296, 1.0]"
      ]
     },
     "execution_count": 8,
     "metadata": {},
     "output_type": "execute_result"
    }
   ],
   "source": [
    "model = tf.keras.models.Sequential([\n",
    "    tf.keras.layers.Dense(512, activation=tf.nn.relu, input_shape=(4,)),\n",
    "    #tf.keras.layers.Dropout(0.2),\n",
    "    #tf.keras.layers.Dense(512, activation=tf.nn.relu),\n",
    "    #tf.keras.layers.Dropout(0.2),\n",
    "    tf.keras.layers.Dense(3, activation=tf.nn.sigmoid)\n",
    "])\n",
    "model.compile(optimizer='adam',\n",
    "              loss='mean_squared_error',\n",
    "              metrics=['accuracy'])\n",
    "\n",
    "model.fit(x_train, y_train, epochs=1)\n",
    "model.evaluate(x_test, y_test)"
   ]
  },
  {
   "cell_type": "code",
   "execution_count": 7,
   "metadata": {},
   "outputs": [
    {
     "data": {
      "text/plain": [
       "array([[0.48074356, 0.4942185 , 0.4827698 ],\n",
       "       [0.48831436, 0.49678674, 0.4889318 ]], dtype=float32)"
      ]
     },
     "execution_count": 7,
     "metadata": {},
     "output_type": "execute_result"
    }
   ],
   "source": [
    "model.predict(x_test)"
   ]
  },
  {
   "cell_type": "code",
   "execution_count": null,
   "metadata": {},
   "outputs": [],
   "source": []
  }
 ],
 "metadata": {
  "kernelspec": {
   "display_name": "Python 3",
   "language": "python",
   "name": "python3"
  },
  "language_info": {
   "codemirror_mode": {
    "name": "ipython",
    "version": 3
   },
   "file_extension": ".py",
   "mimetype": "text/x-python",
   "name": "python",
   "nbconvert_exporter": "python",
   "pygments_lexer": "ipython3",
   "version": "3.6.8"
  }
 },
 "nbformat": 4,
 "nbformat_minor": 2
}
