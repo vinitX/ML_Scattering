{
 "cells": [
  {
   "cell_type": "code",
   "execution_count": 1,
   "metadata": {},
   "outputs": [],
   "source": [
    "import numpy as np\n",
    "import matplotlib.pyplot as plt\n",
    "import time\n",
    "from subprocess import Popen, PIPE\n",
    "\n",
    "def surge_exp(E,p,lmbd,E_th):\n",
    "    x=np.heaviside(E-E_th,1)*(E-E_th)\n",
    "    return ((e/lmbd)**p)*(x**p)*np.exp(-p*x/lmbd)\n",
    "    \n",
    "def surge_pwr(E,p,lmbd,E_th):\n",
    "    x=np.heaviside(E-E_th,1)*(E-E_th)\n",
    "    return (lmbd**p)*(p+1)**(p+1)*x/(x+p*lmbd)**(p+1)\n",
    "    \n",
    "def Input(Y,m):\n",
    "    n=500\n",
    "    \n",
    "    f=open(\"LXCat.txt\",\"w\")\n",
    "    f.write('----------------------\\n')\n",
    "    f.write('ELASTIC\\nSurge\\n')\n",
    "    f.write('1.371541e-4 / mass ratio\\n')\n",
    "    f.write('----------------------\\n')\n",
    "    \n",
    "    for i in range(n):\n",
    "        f.write(str(E[i])+' '+str(Y[i])+'\\n')\n",
    "\n",
    "    '''\n",
    "    f.write('----------------------\\n')\n",
    "    f.write('EXCITATION\\nSurge\\n')\n",
    "    f.write(str(E_th)+' / Thresold Energy\\n')\n",
    "    f.write('1.371541e-4 / mass ratio\\n')\n",
    "    f.write('----------------------\\n')\n",
    "    sigma_exc=slope*(E-E_th)*np.heaviside(E-E_th,1)\n",
    "    for i in range(n):\n",
    "        f.write(str(E[i])+' '+str(sigma_exc[i])+'\\n')\n",
    "    '''\n",
    "    f.close()\n",
    "    \n",
    "def ex(grid=100,E_min=1e-3,E_max=1e3,n=1000):\n",
    "        f=open(\"ex.dat\",\"w\")\n",
    "        f.write(\"READCOLLISIONS\\n\")\n",
    "        f.write(\"LXCat.txt\\nSurge\\n1\\n\")\n",
    "        f.write(\"CONDITIONS\\n\")\n",
    "        f.write(\"1       / Electric field / N (Td)\\n\")\n",
    "        f.write(\"0        / Angular field frequency / N (m3/s)\\n\")\n",
    "        f.write(\"0.        / Cosine of E-B field angle\\n\")\n",
    "        f.write(\"0.       / Gas temperature (K)\\n\")\n",
    "        f.write(\"300.      / Excitation temperature (K)\\n\")\n",
    "        f.write(\"0.        / Transition energy (eV)\\n\")\n",
    "        f.write(\"0.        / Ionization degree\\n\")\n",
    "        f.write(\"1e-6      / Plasma density (1/m3)\\n\")\n",
    "        f.write(\"1.        / Ion charge parameter\\n\")\n",
    "        f.write(\"1.        / Ion/neutral mass ratio\\n\")\n",
    "        f.write(\"1         / e-e momentum effects: 0=No; 1=Yes*\\n\")\n",
    "        f.write(\"1         / Energy sharing: 1=Equal*; 2=One takes all\\n\")\n",
    "        f.write(\"1         / Growth: 1=Temporal*; 2=Spatial; 3=Not included; 4=Grad-n expansion\\n\")\n",
    "        f.write(\"0.        / Maxwellian mean energy (eV) \\n\")\n",
    "        f.write(str(grid)+\"      / # of grid points\\n\")\n",
    "        f.write(\"0         / Manual grid: 0=No; 1=Linear; 2=Parabolic \\n\")\n",
    "        f.write(\"1000.      / Manual maximum energy (eV)\\n\")\n",
    "        f.write(\"1e-10     / Precision\\n\")\n",
    "        f.write(\"1e-5      / Convergence\\n\")\n",
    "        f.write(\"1000      / Maximum # of iterations\\n\")\n",
    "        f.write(\"1        / Gas composition fractions\\n\")\n",
    "        f.write(\"1         / Normalize composition to unity: 0=No; 1=Yes\\n\")\n",
    "        f.write(\"RUNSERIES\\n\")\n",
    "        f.write(\"1          / Variable: 1=E/N; 2=Mean energy; 3=Maxwellian energy \\n\")\n",
    "        f.write(str(E_min)+\" \"+str(E_max)+\"  / Min Max\\n\")\n",
    "        f.write(str(n)+\"         / Number \\n\")\n",
    "        f.write(\"3          / Type: 1=Linear; 2=Quadratic; 3=Exponential\\n\")\n",
    "        f.write(\"SAVERESULTS\\n\")\n",
    "        f.write(\"Surge.dat        / File \\n\")\n",
    "        f.write(\"3        / Format: 1=Run by run; 2=Combined; 3=E/N; 4=Energy; 5=SIGLO; 6=PLASIMO\\n\")\n",
    "        f.write(\"1        / Conditions: 0=No; 1=Yes\\n\")\n",
    "        f.write(\"1        / Transport coefficients: 0=No; 1=Yes\\n\")\n",
    "        f.write(\"1        / Rate coefficients: 0=No; 1=Yes\\n\")\n",
    "        f.write(\"0        / Reverse rate coefficients: 0=No; 1=Yes\\n\")\n",
    "        f.write(\"0        / Energy loss coefficients: 0=No; 1=Yes\\n\")\n",
    "        f.write(\"1        / Distribution function: 0=No; 1=Yes \\n\")\n",
    "        f.write(\"0        / Skip failed runs: 0=No; 1=Yes\\n\")\n",
    "        f.write(\"END\")\n",
    "        f.close()\n",
    "        \n",
    "def Bolsig():\n",
    "    t=time.time()\n",
    "    process = Popen(['./bolsigminus', 'ex.dat'], stdout=PIPE, stderr=PIPE)\n",
    "    stdout, stderr = process.communicate()\n",
    "    #print (stdout)\n",
    "    \n",
    "def Output(n=1000):\n",
    "    f=open(\"Surge.dat\",\"r\")\n",
    "    \n",
    "    E=np.zeros(n)\n",
    "    out=np.zeros((n,5))\n",
    "    for line in f:\n",
    "        if line[:8]=='E/N (Td)' and line[8:].strip()=='Mean energy (eV)':\n",
    "            for i in range(n):\n",
    "                l=f.readline().strip()\n",
    "                if len(l)==0: break\n",
    "                E[i], out[i,0] = [float(x) for x in l.split()]\n",
    "        if line[:8]=='E/N (Td)' and line[8:].strip()=='Mobility *N (1/m/V/s)':\n",
    "            for i in range(n):\n",
    "                l=f.readline().strip()\n",
    "                if len(l)==0: break\n",
    "                E[i], out[i,1] = [float(x) for x in l.split()]\n",
    "        if line[:8]=='E/N (Td)' and line[8:].strip()=='Diffusion coefficient *N (1/m/s)':\n",
    "            for i in range(n):\n",
    "                l=f.readline().strip()\n",
    "                if len(l)==0: break\n",
    "                E[i], out[i,2] = [float(x) for x in l.split()]\n",
    "        if line[:8]=='E/N (Td)' and line[8:].strip()=='Error code':\n",
    "            for i in range(n):\n",
    "                l=f.readline().strip()\n",
    "                if len(l)==0: break\n",
    "                E[i], out[i,4] = [float(x) for x in l.split()]\n",
    "    \n",
    "    out[:,3]=out[:,1]/out[:,2] #Characteristic Energy = Mobility / Diffusion\n",
    "    \n",
    "    out[:,1]=out[:,1]*E*1e-21 #Drift Velocity\n",
    "    out[:,2]=out[:,2]*1e-24 #Diffusion coefficient\n",
    "    \n",
    "    if np.sum(out<0)>0:\n",
    "        plt.loglog(E,out[:,0])\n",
    "        plt.loglog(E,out[:,1])\n",
    "        plt.loglog(E,out[:,2])\n",
    "        plt.loglog(E,out[:,3])\n",
    "        plt.show()\n",
    "    \n",
    "    #print('time:',time.time()-t)\n",
    "    return out"
   ]
  },
  {
   "cell_type": "code",
   "execution_count": 149,
   "metadata": {},
   "outputs": [
    {
     "name": "stdout",
     "output_type": "stream",
     "text": [
      "|||[3.95748676 1.36595808] [1.88714925 1.82982108] [ 5.9525578  37.39807995] 169.0 5.778098931992494e-22\n",
      "|||||[6.01231638 5.76678339] [2.73019889 1.98612943] [ 0.43633739 10.81986768] 165.0 1.8510826498919382e-22\n",
      "||[5.48462513 2.88557104] [1.64533237 1.61332968] [ 0.31974665 31.92047824] 105.0 1.4041099554516884e-21\n",
      "||||[6.67478586 8.92624404] [2.19287562 1.86300461] [ 0.11264369 16.6443603 ] 106.0 8.072332831054791e-22\n",
      "|[2.59203913 2.11540341] [0.56802003 1.99052323] [ 0.6868197  15.87864316] 166.0 9.712189897914363e-22\n",
      "|||||||||||[50.36050055  2.05231257] [1.65067969 1.97246536] [ 0.61289909 60.78236139] 111.0 1.5236870518535594e-21\n",
      "||||||||||||||||||||||[6.88685601 1.0039344 ] [0.4734719  1.57645377] [ 0.11507779 13.02191195] 129.0 1.7792555619022744e-21\n",
      "|||[27.45503056  1.41024635] [2.90856906 1.64685272] [ 2.61035731 15.71274045] 182.0 1.8717959764193036e-22\n",
      "||||||||||[1.99772108 1.1918987 ] [1.39528573 1.10675314] [ 0.12274658 30.53424377] 158.0 1.1306867902777443e-21\n",
      "||||||[4.83204893 8.38603004] [1.45371519 1.79264648] [1.36101946e-02 1.63509606e+01] 110.0 8.543347358297375e-22\n",
      "||||||||||[1.28503287 1.24746509] [2.92461837 1.46204343] [38.24126604 12.23706746] 182.0 3.1853852369722975e-22\n",
      "||||[44.53324217  1.34050444] [2.23652038 1.76906954] [2.3834454e-02 2.8150712e+01] 204.0 3.772325440185694e-22\n",
      "||||||||||[4.41672718 1.67502683] [0.79021907 1.12832386] [ 1.81074606 11.87155716] 138.0 1.3975021253631522e-21\n",
      "|[10.08404338  1.69736248] [2.29215486 1.73138707] [2.46210838e-02 2.83361821e+01] 167.0 5.687470023372013e-22\n",
      "||[3.84361858 1.14724455] [2.95906617 1.05652412] [12.57186522 55.06839991] 104.0 2.1213664497997883e-21\n",
      "|[75.06241758  1.17214157] [1.40221527 1.58505956] [ 0.12136778 79.8290352 ] 115.0 1.844775087705283e-21\n",
      "||||[1.96091414 1.10129762] [2.884475   1.11594762] [ 0.0782911  41.96393569] 130.0 1.5625803560353067e-21\n",
      "|[1.39839837 2.80238516] [1.42042367 1.45478794] [ 0.59304603 24.1382586 ] 139.0 1.0591583605310495e-21\n",
      "102.70636987686157\n"
     ]
    }
   ],
   "source": [
    "#cross=open('Y.csv','wb')\n",
    "#trans=open('X.csv','wb')\n",
    "    \n",
    "n=100\n",
    "m=2 #no. of Surge functions\n",
    "\n",
    "A=np.zeros((n,m))\n",
    "A[:,0]=10**(np.random.rand(n)*2) # in range (1 to 100) (Angstrom)^2\n",
    "A[:,1:]=10**(np.random.rand(n,m-1)*2) # in range (1 to 100) (Angstrom)^2\n",
    "\n",
    "p=np.zeros((n,m))\n",
    "p[:,0]=np.random.rand(n)*2.9+0.1  #in (0.1 to 3) \n",
    "p[:,1:]=np.random.rand(n,m-1)*1.9+0.1  #in () \n",
    "0.1 to 2\n",
    "lmbd=np.zeros((n,m))\n",
    "lmbd[:,0]=10**(np.random.rand(n)*4-2) #in (0.01 to 100) (eV)\n",
    "lmbd[:,1:]=10**(np.random.rand(n,m-1)+1) #in (10 to 100) (eV)\n",
    "\n",
    "E_th=10**(np.random.rand(n,m)*4-2) #in (0.01 to 100) (eV)\n",
    "E_th[:,0]=-E_th[:,0] #One of the threshold energy has to be negative for elastic collision.\n",
    "\n",
    "E=np.logspace(-3,3,500)\n",
    "Y=np.zeros((n,500))\n",
    "\n",
    "for i in range(n):\n",
    "    for j in range(m):\n",
    "        surge=A[i,j]*1e-20*surge_pwr(E,p[i,j],lmbd[i,j],E_th[i,j])\n",
    "        Y[i,:]+=surge\n",
    "\n",
    "err_hist=[]\n",
    "t=time.time()\n",
    "for i in range(n):\n",
    "    Input(Y[i,:],m)\n",
    "    ex(grid=100,E_min=1e-3,E_max=1e2,n=1000) #n cannot be more than 1000\n",
    "    Bolsig()\n",
    "    X=Output(n=1000)\n",
    "    print('|',end='')\n",
    "    err_hist.append(np.sum(X[:,4]))\n",
    "    if err_hist[i]>300:\n",
    "        print(A[i,:],p[i,:],lmbd[i,:],np.sum(err_hist[i]),Y[i,499])\n",
    "    #plt.loglog(E,Y[i,:]*1e20)\n",
    "    #plt.show()\n",
    "    #plt.semilogy(X)\n",
    "    #plt.show()\n",
    "    #X=np.log10(X)\n",
    "    #np.savetxt(cross,np.reshape(Y[i,:]*1e20,(1,-1)),delimiter=',')\n",
    "    #np.savetxt(trans,np.reshape(X,(1,-1)),delimiter=',')\n",
    "print(time.time()-t)\n",
    "#cross.close()\n",
    "#trans.close()"
   ]
  },
  {
   "cell_type": "code",
   "execution_count": 150,
   "metadata": {},
   "outputs": [
    {
     "data": {
      "image/png": "[encoded data removed]",
      "text/plain": [
       "<Figure size 432x288 with 1 Axes>"
      ]
     },
     "metadata": {
      "needs_background": "light"
     },
     "output_type": "display_data"
    }
   ],
   "source": [
    "plt.scatter(np.log10(np.max(A,axis=1)),err_hist,s=2)\n",
    "plt.xlabel('log(Peak_Cross_Section value)')\n",
    "plt.ylabel('No. of failed Bolsig runs out of 1000')\n",
    "plt.savefig('Correlation.png')"
   ]
  },
  {
   "cell_type": "code",
   "execution_count": 151,
   "metadata": {},
   "outputs": [
    {
     "data": {
      "image/png": "[encoded data removed]",
      "text/plain": [
       "<Figure size 432x288 with 1 Axes>"
      ]
     },
     "metadata": {
      "needs_background": "light"
     },
     "output_type": "display_data"
    }
   ],
   "source": [
    "plt.hist2d(np.log10(np.max(A,axis=1)),err_hist,10)\n",
    "plt.show()"
   ]
  },
  {
   "cell_type": "code",
   "execution_count": 152,
   "metadata": {},
   "outputs": [
    {
     "data": {
      "image/png": "[encoded data removed]",
      "text/plain": [
       "<Figure size 432x288 with 1 Axes>"
      ]
     },
     "metadata": {
      "needs_background": "light"
     },
     "output_type": "display_data"
    }
   ],
   "source": [
    "plt.scatter(np.log10(Y[:,499])+20,err_hist,s=2)\n",
    "plt.xlabel('log(Peak_Cross_Section value)')\n",
    "plt.ylabel('No. of failed Bolsig runs out of 1000')\n",
    "plt.savefig('Correlation.png')"
   ]
  },
  {
   "cell_type": "code",
   "execution_count": 153,
   "metadata": {},
   "outputs": [
    {
     "data": {
      "image/png": "[encoded data removed]",
      "text/plain": [
       "<Figure size 432x288 with 1 Axes>"
      ]
     },
     "metadata": {
      "needs_background": "light"
     },
     "output_type": "display_data"
    }
   ],
   "source": [
    "plt.scatter(np.log10(Y[:,499]),np.log10(A[:,1])+np.log10(lmbd[:,1])*np.max(p,axis=1),s=2)\n",
    "plt.xlabel('log(Peak_Cross_Section value)')\n",
    "plt.ylabel('No. of failed Bolsig runs out of 1000')\n",
    "plt.savefig('Correlation.png')"
   ]
  },
  {
   "cell_type": "code",
   "execution_count": 156,
   "metadata": {},
   "outputs": [
    {
     "data": {
      "text/plain": [
       "18"
      ]
     },
     "execution_count": 156,
     "metadata": {},
     "output_type": "execute_result"
    }
   ],
   "source": [
    "np.sum(np.array(err_hist)>100)"
   ]
  },
  {
   "cell_type": "code",
   "execution_count": null,
   "metadata": {},
   "outputs": [],
   "source": []
  }
 ],
 "metadata": {
  "kernelspec": {
   "display_name": "Python 3",
   "language": "python",
   "name": "python3"
  },
  "language_info": {
   "codemirror_mode": {
    "name": "ipython",
    "version": 3
   },
   "file_extension": ".py",
   "mimetype": "text/x-python",
   "name": "python",
   "nbconvert_exporter": "python",
   "pygments_lexer": "ipython3",
   "version": "3.6.8"
  }
 },
 "nbformat": 4,
 "nbformat_minor": 2
}
