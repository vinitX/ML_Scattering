{
 "cells": [
  {
   "cell_type": "code",
   "execution_count": 40,
   "metadata": {
    "collapsed": true
   },
   "outputs": [],
   "source": [
    "import numpy as np\n",
    "import matplotlib.pyplot as plt"
   ]
  },
  {
   "cell_type": "code",
   "execution_count": 41,
   "metadata": {
    "collapsed": true
   },
   "outputs": [],
   "source": [
    "n0=1\n",
    "k=1.381e-23\n",
    "T0=0\n",
    "m0=4*1.66054e-27\n",
    "m=9.11e-31\n",
    "E=1e-21*n0\n",
    "q=1.602e-19"
   ]
  },
  {
   "cell_type": "code",
   "execution_count": 42,
   "metadata": {},
   "outputs": [
    {
     "data": {
      "text/plain": [
       "'\\nv=np.arange(1,1001)\\nv=np.reshape(v,(n,1))\\ndv=np.ones(n)\\n'"
      ]
     },
     "execution_count": 42,
     "metadata": {},
     "output_type": "execute_result"
    }
   ],
   "source": [
    "n=100\n",
    "B=np.zeros((n,1))\n",
    "A=np.zeros((n,n))\n",
    "\n",
    "v=np.logspace(-5,np.log10(np.sqrt(24*1.602e-19/m)),n)\n",
    "v=np.reshape(v,(n,1))\n",
    "dv=v[:n-1]-v[1:]#v*((np.sqrt(24*1.602e-19/m)/1e-10)**(1/(n-1))-1)\n",
    "'''\n",
    "v=np.arange(1,1001)\n",
    "v=np.reshape(v,(n,1))\n",
    "dv=np.ones(n)\n",
    "'''"
   ]
  },
  {
   "cell_type": "code",
   "execution_count": 43,
   "metadata": {
    "collapsed": true
   },
   "outputs": [],
   "source": [
    "def vm(v):\n",
    "    return 5e-20*n0*np.sqrt(2/m*1.6e-19)\n",
    "def dvm(v):\n",
    "    return 0"
   ]
  },
  {
   "cell_type": "code",
   "execution_count": 44,
   "metadata": {
    "collapsed": true
   },
   "outputs": [],
   "source": [
    "def a(v):\n",
    "    return k*T0*vm(v)/m0 + q**2*E**2/(3*vm(v))\n",
    "def b(v):\n",
    "    return v**3*vm(v)*m/(m0*v**2) + 2*v*q**2*E**2/(m*vm(v))/(3*m*v**2)#(k*T0*(2*v*vm(v)+v**2*dvm(v))/m + v**3*vm(v))*m/(m0*v**2) -q*E*(v**2*q*E*dvm(v)/(m*vm(v)**2) - 2*v*q*E/(m*vm(v)))/(3*m*v**2)\n",
    "def c(v):\n",
    "    return m*((2*v*vm(v)+v**2*dvm(v))*v + v**2*vm(v))/(m0*v**2)"
   ]
  },
  {
   "cell_type": "code",
   "execution_count": 73,
   "metadata": {
    "collapsed": true
   },
   "outputs": [],
   "source": [
    "def f1(f,g,v):\n",
    "    return g\n",
    "def f2(f,g,v):\n",
    "    return -b(v)*g/a(v)-c(v)*f/a(v)"
   ]
  },
  {
   "cell_type": "code",
   "execution_count": 75,
   "metadata": {},
   "outputs": [
    {
     "name": "stdout",
     "output_type": "stream",
     "text": [
      "[-0.] [ 0.] [-0.] [ 0.] [-0.] [ 0.] [-0.] [ 0.] \n",
      "\n",
      "[-0.] [ 0.] [-0.] [ 0.] [-0.] [ 0.] [-0.] [ 0.] \n",
      "\n",
      "[-0.] [ 0.] [-0.] [ 0.] [-0.] [ 0.] [-0.] [ 0.] \n",
      "\n"
     ]
    }
   ],
   "source": [
    "f=np.zeros(n)\n",
    "g=np.zeros(n)\n",
    "for i in range(n-1,1,-1):\n",
    "    k11=dv[i-1]*f1(f[i],g[i],v[i])\n",
    "    k21=dv[i-1]*f2(f[i],g[i],v[i])\n",
    "    k12=dv[i-1]*f1(f[i]+0.5*k11,g[i]+0.5*k21,v[i]+0.5*dv[i-1])\n",
    "    k22=dv[i-1]*f2(f[i]+0.5*k11,g[i]+0.5*k21,v[i]+0.5*dv[i-1]);\n",
    "    k13=dv[i-1]*f1(f[i]+0.5*k12,g[i]+0.5*k22,v[i]+0.5*dv[i-1]);\n",
    "    k23=dv[i-1]*f2(f[i]+0.5*k12,g[i]+0.5*k22,v[i]+0.5*dv[i-1]);\n",
    "    k14=dv[i-1]*f1(f[i]+k13,g[i]+k23,v[i-1]) #v[i]+dv[i]);\n",
    "    k24=dv[i-1]*f2(f[i]+k13,g[i]+k23,v[i-1]) #v[i]+dv[i]);\n",
    "    f[i-1]=f[i]+(k11+2*k12+2*k13+k14)/6\n",
    "    g[i-1]=g[i]+(k21+2*k22+2*k23+k24)/6\n",
    "    if i>n-4:\n",
    "        print(k11,k21,k12,k22,k13,k23,k14,k24,'\\n')"
   ]
  },
  {
   "cell_type": "code",
   "execution_count": 76,
   "metadata": {},
   "outputs": [
    {
     "data": {
      "image/png": "[encoded data removed]",
      "text/plain": [
       "<matplotlib.figure.Figure at 0x7f52689174e0>"
      ]
     },
     "metadata": {},
     "output_type": "display_data"
    },
    {
     "data": {
      "image/png": "[encoded data removed]",
      "text/plain": [
       "<matplotlib.figure.Figure at 0x7f5271163898>"
      ]
     },
     "metadata": {},
     "output_type": "display_data"
    }
   ],
   "source": [
    "plt.plot(f)\n",
    "plt.show()\n",
    "plt.plot(g)\n",
    "plt.show()"
   ]
  },
  {
   "cell_type": "code",
   "execution_count": 64,
   "metadata": {
    "collapsed": true
   },
   "outputs": [],
   "source": [
    "f0=f"
   ]
  },
  {
   "cell_type": "code",
   "execution_count": 67,
   "metadata": {},
   "outputs": [
    {
     "data": {
      "image/png": "[encoded data removed]",
      "text/plain": [
       "<matplotlib.figure.Figure at 0x7f5268bc1588>"
      ]
     },
     "metadata": {},
     "output_type": "display_data"
    }
   ],
   "source": [
    "f1=-q*E*g/(m*vm(v[:n-1]))\n",
    "plt.plot(v,f1)\n",
    "plt.show()"
   ]
  },
  {
   "cell_type": "code",
   "execution_count": null,
   "metadata": {
    "collapsed": true
   },
   "outputs": [],
   "source": []
  }
 ],
 "metadata": {
  "kernelspec": {
   "display_name": "Python 3",
   "language": "python",
   "name": "python3"
  },
  "language_info": {
   "codemirror_mode": {
    "name": "ipython",
    "version": 3
   },
   "file_extension": ".py",
   "mimetype": "text/x-python",
   "name": "python",
   "nbconvert_exporter": "python",
   "pygments_lexer": "ipython3",
   "version": "3.6.3"
  }
 },
 "nbformat": 4,
 "nbformat_minor": 2
}
