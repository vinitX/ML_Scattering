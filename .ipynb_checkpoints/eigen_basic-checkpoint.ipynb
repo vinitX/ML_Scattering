{
 "cells": [
  {
   "cell_type": "code",
   "execution_count": 1,
   "metadata": {
    "collapsed": true
   },
   "outputs": [],
   "source": [
    "import numpy as np\n",
    "import matplotlib.pyplot as plt"
   ]
  },
  {
   "cell_type": "code",
   "execution_count": 2,
   "metadata": {
    "collapsed": true
   },
   "outputs": [],
   "source": [
    "n0=1\n",
    "k=1.381e-23\n",
    "T0=0\n",
    "m0=4*1.66054e-27\n",
    "m=9.11e-31\n",
    "E=1e-21*n0\n",
    "q=1.602e-19"
   ]
  },
  {
   "cell_type": "code",
   "execution_count": 3,
   "metadata": {},
   "outputs": [],
   "source": [
    "n=500\n",
    "A=np.zeros((n,n))\n",
    "\n",
    "vmin=1e3\n",
    "vmax=1*np.sqrt(24*1.602e-19/m)\n",
    "v=np.logspace(np.log10(vmin),np.log10(vmax),n)\n",
    "v=np.reshape(v,(n,1))\n",
    "ratio=(vmax/vmin)**(1.0/(n-1))\n",
    "dv=v[1:]-v[:n-1] #v*(ratio-1)"
   ]
  },
  {
   "cell_type": "code",
   "execution_count": 4,
   "metadata": {},
   "outputs": [
    {
     "data": {
      "text/plain": [
       "(500, 1)"
      ]
     },
     "execution_count": 4,
     "metadata": {},
     "output_type": "execute_result"
    }
   ],
   "source": [
    "np.shape(v)"
   ]
  },
  {
   "cell_type": "code",
   "execution_count": 5,
   "metadata": {
    "collapsed": true
   },
   "outputs": [],
   "source": [
    "def vm(v):\n",
    "    return 5e-20*n0*np.sqrt(2/m*1.6e-19)\n",
    "def dvm(v):\n",
    "    return 0"
   ]
  },
  {
   "cell_type": "code",
   "execution_count": 27,
   "metadata": {
    "collapsed": true
   },
   "outputs": [],
   "source": [
    "def a(v):\n",
    "    return 1#k*T0*vm(v)/m0 + q**2*E**2/(3*vm(v))\n",
    "def b(v):\n",
    "    return 1#v**3*vm(v)*m/(m0*v**2) + 2*v*q**2*E**2/(m*vm(v))/(3*m*v**2)#(k*T0*(2*v*vm(v)+v**2*dvm(v))/m + v**3*vm(v))*m/(m0*v**2) -q*E*(v**2*q*E*dvm(v)/(m*vm(v)**2) - 2*v*q*E/(m*vm(v)))/(3*m*v**2)\n",
    "def c(v):\n",
    "    return 1#m*((2*v*vm(v)+v**2*dvm(v))*v + v**2*vm(v))/(m0*v**2)"
   ]
  },
  {
   "cell_type": "code",
   "execution_count": 28,
   "metadata": {
    "collapsed": true
   },
   "outputs": [],
   "source": [
    "def alpha(i):\n",
    "    return a(v[i])/dv[i-1]**2\n",
    "def beta(i):\n",
    "    return -(2*a(v[i])/dv[i-1]**2+b(v[i])/dv[i-1])\n",
    "def gamma(i):\n",
    "    return a(v[i])/dv[i-1]**2+b(v[i])/dv[i-1]+c(v[i])"
   ]
  },
  {
   "cell_type": "code",
   "execution_count": 29,
   "metadata": {},
   "outputs": [],
   "source": [
    "A[0,0]=1\n",
    "A[0,1]=-1\n",
    "for i in range(1,n-1):\n",
    "    A[i,i-1]=alpha(i)\n",
    "    A[i,i]=beta(i)\n",
    "    A[i,i+1]=gamma(i)\n",
    "A[n-1,n-1]=1"
   ]
  },
  {
   "cell_type": "code",
   "execution_count": 30,
   "metadata": {
    "collapsed": true
   },
   "outputs": [],
   "source": [
    "value, vector=np.linalg.eig(A)"
   ]
  },
  {
   "cell_type": "code",
   "execution_count": 31,
   "metadata": {},
   "outputs": [
    {
     "name": "stdout",
     "output_type": "stream",
     "text": [
      "[[  1.00000000e+00  -1.00000000e+00   0.00000000e+00 ...,   0.00000000e+00\n",
      "    0.00000000e+00   0.00000000e+00]\n",
      " [  4.21467663e-03  -7.33498942e-02   1.06913522e+00 ...,   0.00000000e+00\n",
      "    0.00000000e+00   0.00000000e+00]\n",
      " [  0.00000000e+00   4.08777510e-03  -7.21112609e-02 ...,   0.00000000e+00\n",
      "    0.00000000e+00   0.00000000e+00]\n",
      " ..., \n",
      " [  0.00000000e+00   0.00000000e+00   0.00000000e+00 ...,  -3.30863664e-05\n",
      "    1.00003309e+00   0.00000000e+00]\n",
      " [  0.00000000e+00   0.00000000e+00   0.00000000e+00 ...,   1.06160612e-09\n",
      "   -3.25844209e-05   1.00003258e+00]\n",
      " [  0.00000000e+00   0.00000000e+00   0.00000000e+00 ...,   0.00000000e+00\n",
      "    0.00000000e+00   1.00000000e+00]] \n",
      "\n",
      "[  9.96043622e-01 +0.00000000e+00j   5.95631991e-02 +8.76269928e-03j\n",
      "   5.95631991e-02 -8.76269928e-03j   5.06512376e-02 +0.00000000e+00j\n",
      "   4.53813850e-02 +2.33667225e-02j   4.53813850e-02 -2.33667225e-02j\n",
      "   3.29507146e-02 +0.00000000e+00j   1.96301034e-02 +2.60965232e-02j\n",
      "   1.96301034e-02 -2.60965232e-02j   6.55138181e-03 +0.00000000e+00j\n",
      "  -2.00738909e-02 +0.00000000e+00j  -4.64811410e-02 +0.00000000e+00j\n",
      "  -7.41868385e-02 +0.00000000e+00j  -1.07965845e-01 +2.87415887e-02j\n",
      "  -1.07965845e-01 -2.87415887e-02j  -1.06504676e-01 +0.00000000e+00j\n",
      "  -1.89244701e-01 +0.00000000e+00j  -1.39388444e-01 +2.85604669e-02j\n",
      "  -1.39388444e-01 -2.85604669e-02j  -1.76224237e-01 +0.00000000e+00j\n",
      "  -1.67456799e-01 +0.00000000e+00j  -1.61966745e-01 +1.50009735e-02j\n",
      "  -1.61966745e-01 -1.50009735e-02j  -1.41335902e-01 +0.00000000e+00j\n",
      "   3.16844616e-02 +0.00000000e+00j   2.94162208e-02 +0.00000000e+00j\n",
      "   1.83023705e-02 +1.09898765e-02j   1.83023705e-02 -1.09898765e-02j\n",
      "   2.70713573e-02 +0.00000000e+00j   2.43527070e-02 +0.00000000e+00j\n",
      "   2.12310931e-02 +0.00000000e+00j   1.77261368e-02 +0.00000000e+00j\n",
      "   1.39033781e-02 +0.00000000e+00j   9.86364341e-03 +0.00000000e+00j\n",
      "   5.66414000e-03 +0.00000000e+00j   1.31882862e-03 +0.00000000e+00j\n",
      "  -1.09163400e-01 +0.00000000e+00j  -3.16903649e-03 +0.00000000e+00j\n",
      "  -7.79429235e-03 +0.00000000e+00j  -1.25485379e-02 +0.00000000e+00j\n",
      "  -1.74213547e-02 +0.00000000e+00j  -2.24018068e-02 +0.00000000e+00j\n",
      "  -2.74800042e-02 +0.00000000e+00j  -3.26489322e-02 +0.00000000e+00j\n",
      "  -1.04626915e-01 +0.00000000e+00j  -3.79066022e-02 +0.00000000e+00j\n",
      "  -4.32573318e-02 +0.00000000e+00j  -4.87061574e-02 +0.00000000e+00j\n",
      "  -5.60651604e-02 +1.76097518e-02j  -5.60651604e-02 -1.76097518e-02j\n",
      "  -1.00422999e-01 +0.00000000e+00j  -5.42327357e-02 +0.00000000e+00j\n",
      "  -5.97568967e-02 +0.00000000e+00j  -9.65062764e-02 +0.00000000e+00j\n",
      "  -7.55655591e-02 +1.60989069e-02j  -7.55655591e-02 -1.60989069e-02j\n",
      "  -9.28202740e-02 +0.00000000e+00j  -8.91107614e-02 +0.00000000e+00j\n",
      "  -8.76205265e-02 +5.52775466e-03j  -8.76205265e-02 -5.52775466e-03j\n",
      "  -8.48433359e-02 +0.00000000e+00j  -8.02644586e-02 +0.00000000e+00j\n",
      "  -7.54731246e-02 +0.00000000e+00j  -6.51752356e-02 +0.00000000e+00j\n",
      "  -7.04286242e-02 +0.00000000e+00j  -5.69433494e-02 +0.00000000e+00j\n",
      "   1.65918375e-02 +0.00000000e+00j   1.61128913e-02 +3.44061929e-03j\n",
      "   1.61128913e-02 -3.44061929e-03j   8.64353981e-03 +7.29934427e-03j\n",
      "   8.64353981e-03 -7.29934427e-03j   1.54225936e-02 +0.00000000e+00j\n",
      "   1.43166453e-02 +0.00000000e+00j   1.31114320e-02 +0.00000000e+00j\n",
      "   1.17199783e-02 +0.00000000e+00j   1.01425757e-02 +0.00000000e+00j\n",
      "   8.39599256e-03 +0.00000000e+00j   6.50482994e-03 +0.00000000e+00j\n",
      "   4.50064778e-03 +0.00000000e+00j   2.40968000e-03 +0.00000000e+00j\n",
      "   2.47041540e-04 +0.00000000e+00j  -1.97905857e-03 +0.00000000e+00j\n",
      "  -4.26254768e-03 +0.00000000e+00j  -6.59734191e-03 +0.00000000e+00j\n",
      "  -8.97679470e-03 +0.00000000e+00j  -5.45062072e-02 +0.00000000e+00j\n",
      "  -1.13937390e-02 +0.00000000e+00j  -1.38407134e-02 +0.00000000e+00j\n",
      "  -1.63102671e-02 +0.00000000e+00j  -1.87953644e-02 +0.00000000e+00j\n",
      "  -5.22606507e-02 +0.00000000e+00j  -2.12899780e-02 +0.00000000e+00j\n",
      "  -2.37900110e-02 +0.00000000e+00j  -2.62946055e-02 +0.00000000e+00j\n",
      "  -5.01784016e-02 +0.00000000e+00j  -2.88068589e-02 +0.00000000e+00j\n",
      "  -3.37917529e-02 +6.82063204e-03j  -3.37917529e-02 -6.82063204e-03j\n",
      "  -4.82375977e-02 +0.00000000e+00j  -4.64196531e-02 +0.00000000e+00j\n",
      "  -4.46896185e-02 +0.00000000e+00j  -4.28945354e-02 +0.00000000e+00j\n",
      "  -4.19929696e-02 +2.76735220e-03j  -4.19929696e-02 -2.76735220e-03j\n",
      "  -4.07882842e-02 +0.00000000e+00j  -3.13279095e-02 +0.00000000e+00j\n",
      "  -3.85549390e-02 +0.00000000e+00j  -3.62519687e-02 +0.00000000e+00j\n",
      "  -3.38316210e-02 +0.00000000e+00j  -3.05882252e-02 +0.00000000e+00j\n",
      "  -2.91535625e-02 +0.00000000e+00j   8.32617187e-03 +0.00000000e+00j\n",
      "  -2.78558725e-02 +0.00000000e+00j   7.74203267e-03 +0.00000000e+00j\n",
      "   7.23523484e-03 +0.00000000e+00j   6.91549426e-03 +0.00000000e+00j\n",
      "   6.55076460e-03 +0.00000000e+00j   5.98632929e-03 +0.00000000e+00j\n",
      "   5.33226050e-03 +0.00000000e+00j   4.60520442e-03 +0.00000000e+00j\n",
      "   3.81187664e-03 +0.00000000e+00j   2.95749246e-03 +0.00000000e+00j\n",
      "   2.04659999e-03 +0.00000000e+00j   1.08336759e-03 +0.00000000e+00j\n",
      "   7.17250235e-05 +0.00000000e+00j  -9.84571946e-04 +0.00000000e+00j\n",
      "  -2.08192198e-03 +0.00000000e+00j  -2.66693991e-02 +0.00000000e+00j\n",
      "  -3.21688100e-03 +0.00000000e+00j  -4.38615961e-03 +0.00000000e+00j\n",
      "  -5.58656420e-03 +0.00000000e+00j  -1.09085999e-02 +6.95434679e-03j\n",
      "  -1.09085999e-02 -6.95434679e-03j  -6.81478476e-03 +0.00000000e+00j\n",
      "  -8.06688664e-03 +0.00000000e+00j  -9.33743547e-03 +0.00000000e+00j\n",
      "  -2.55757906e-02 +0.00000000e+00j  -1.06186014e-02 +0.00000000e+00j\n",
      "  -1.85634507e-02 +7.34213290e-03j  -1.85634507e-02 -7.34213290e-03j\n",
      "  -2.45613598e-02 +0.00000000e+00j  -2.36153896e-02 +0.00000000e+00j\n",
      "  -2.35527175e-02 +2.99027646e-03j  -2.35527175e-02 -2.99027646e-03j\n",
      "  -2.27268488e-02 +0.00000000e+00j  -1.19001973e-02 +0.00000000e+00j\n",
      "  -2.18710305e-02 +0.00000000e+00j  -2.09966200e-02 +0.00000000e+00j\n",
      "  -1.31712124e-02 +0.00000000e+00j  -2.00579817e-02 +0.00000000e+00j\n",
      "  -1.90444292e-02 +0.00000000e+00j  -1.44216283e-02 +0.00000000e+00j\n",
      "  -1.79636890e-02 +0.00000000e+00j  -1.56427995e-02 +0.00000000e+00j\n",
      "  -1.68264681e-02 +0.00000000e+00j  -1.34990737e-02 +0.00000000e+00j\n",
      "   5.26658272e-03 +0.00000000e+00j  -1.29255145e-02 +0.00000000e+00j\n",
      "   4.79907201e-03 +0.00000000e+00j  -1.23967473e-02 +0.00000000e+00j\n",
      "  -1.23346373e-02 +2.03659243e-03j  -1.23346373e-02 -2.03659243e-03j\n",
      "  -1.19061773e-02 +0.00000000e+00j  -9.00684449e-03 +4.79779591e-03j\n",
      "  -9.00684449e-03 -4.79779591e-03j   4.41524185e-03 +0.00000000e+00j\n",
      "   4.08717053e-03 +0.00000000e+00j  -4.23926107e-03 +4.19896931e-03j\n",
      "  -4.23926107e-03 -4.19896931e-03j   3.80005793e-03 +0.00000000e+00j\n",
      "   3.54387221e-03 +0.00000000e+00j   3.30326522e-03 +0.00000000e+00j\n",
      "   3.04864120e-03 +0.00000000e+00j   2.75846197e-03 +0.00000000e+00j\n",
      "   2.43023844e-03 +0.00000000e+00j   2.06716027e-03 +0.00000000e+00j\n",
      "   1.67233873e-03 +0.00000000e+00j   1.24833082e-03 +0.00000000e+00j\n",
      "   7.97333161e-04 +0.00000000e+00j   3.21332243e-04 +0.00000000e+00j\n",
      "  -1.77808049e-04 +0.00000000e+00j  -6.98290918e-04 +0.00000000e+00j\n",
      "  -1.23833815e-03 +0.00000000e+00j  -1.79612636e-03 +0.00000000e+00j\n",
      "  -2.36968680e-03 +0.00000000e+00j  -2.95675762e-03 +0.00000000e+00j\n",
      "  -3.55461237e-03 +0.00000000e+00j  -4.15994973e-03 +0.00000000e+00j\n",
      "  -1.14486808e-02 +0.00000000e+00j  -4.76896026e-03 +0.00000000e+00j\n",
      "  -1.10196389e-02 +0.00000000e+00j  -5.37759569e-03 +0.00000000e+00j\n",
      "  -1.06110445e-02 +0.00000000e+00j  -5.98188737e-03 +0.00000000e+00j\n",
      "  -1.02036709e-02 +0.00000000e+00j  -9.77293156e-03 +0.00000000e+00j\n",
      "  -6.57810287e-03 +0.00000000e+00j  -9.30756500e-03 +0.00000000e+00j\n",
      "  -8.80901739e-03 +0.00000000e+00j  -7.16267506e-03 +0.00000000e+00j\n",
      "  -8.28221263e-03 +0.00000000e+00j  -7.73199863e-03 +0.00000000e+00j\n",
      "  -6.76177442e-03 +0.00000000e+00j   2.83734874e-03 +0.00000000e+00j\n",
      "  -6.18771283e-03 +0.00000000e+00j   2.53750314e-03 +0.00000000e+00j\n",
      "  -5.93488012e-03 +0.00000000e+00j   2.31215096e-03 +0.00000000e+00j\n",
      "  -5.70029124e-03 +0.00000000e+00j  -5.48151488e-03 +0.00000000e+00j\n",
      "   2.12714914e-03 +0.00000000e+00j  -5.27656333e-03 +0.00000000e+00j\n",
      "  -5.08373169e-03 +7.32515907e-04j  -5.08373169e-03 -7.32515907e-04j\n",
      "  -5.08298957e-03 +0.00000000e+00j  -4.89433635e-03 +0.00000000e+00j\n",
      "   1.96903291e-03 +0.00000000e+00j  -3.45980404e-03 +1.42742506e-03j\n",
      "  -3.45980404e-03 -1.42742506e-03j   1.83069701e-03 +0.00000000e+00j\n",
      "   1.70904256e-03 +0.00000000e+00j   1.63699251e-03 +0.00000000e+00j\n",
      "   1.56935762e-03 +0.00000000e+00j   1.44573428e-03 +0.00000000e+00j\n",
      "   1.30410004e-03 +0.00000000e+00j   1.14674122e-03 +0.00000000e+00j\n",
      "   9.74793541e-04 +0.00000000e+00j   7.89388853e-04 +0.00000000e+00j\n",
      "   5.91575854e-04 +0.00000000e+00j   3.82336148e-04 +0.00000000e+00j\n",
      "   1.62610895e-04 +0.00000000e+00j  -6.66804521e-05 +0.00000000e+00j\n",
      "  -3.04629351e-04 +0.00000000e+00j  -5.50333216e-04 +0.00000000e+00j\n",
      "  -8.02894691e-04 +0.00000000e+00j  -1.06142404e-03 +0.00000000e+00j\n",
      "  -1.32504367e-03 +0.00000000e+00j  -1.59289326e-03 +0.00000000e+00j\n",
      "  -1.86413199e-03 +0.00000000e+00j  -2.13792969e-03 +0.00000000e+00j\n",
      "  -4.69861269e-03 +0.00000000e+00j  -4.48765653e-03 +0.00000000e+00j\n",
      "  -4.26102254e-03 +0.00000000e+00j  -2.41342984e-03 +0.00000000e+00j\n",
      "  -4.02076129e-03 +0.00000000e+00j  -3.76887946e-03 +0.00000000e+00j\n",
      "  -2.68965574e-03 +0.00000000e+00j  -3.50740184e-03 +0.00000000e+00j\n",
      "  -2.96533584e-03 +0.00000000e+00j  -3.23869442e-03 +0.00000000e+00j\n",
      "  -3.34882860e-03 +0.00000000e+00j  -3.19247959e-03 +0.00000000e+00j\n",
      "  -3.05100295e-03 +0.00000000e+00j   1.20187827e-03 +0.00000000e+00j\n",
      "  -2.92160526e-03 +0.00000000e+00j   1.09511805e-03 +0.00000000e+00j\n",
      "  -2.80229606e-03 +0.00000000e+00j   1.00747702e-03 +0.00000000e+00j\n",
      "  -2.69159118e-03 +0.00000000e+00j   9.32574872e-04 +0.00000000e+00j\n",
      "  -2.58834415e-03 +0.00000000e+00j   8.67044328e-04 +0.00000000e+00j\n",
      "   8.09385003e-04 +0.00000000e+00j   7.74800896e-04 +0.00000000e+00j\n",
      "   7.43264995e-04 +0.00000000e+00j   6.84937778e-04 +0.00000000e+00j\n",
      "   6.18043264e-04 +0.00000000e+00j   5.43710790e-04 +0.00000000e+00j\n",
      "   4.62478370e-04 +0.00000000e+00j   3.74882138e-04 +0.00000000e+00j\n",
      "   2.81418781e-04 +0.00000000e+00j   1.82552989e-04 +0.00000000e+00j\n",
      "   7.87301116e-05 +0.00000000e+00j  -2.49161656e-03 +0.00000000e+00j\n",
      "  -2.40209786e-03 +3.46272916e-04j  -2.40209786e-03 -3.46272916e-04j\n",
      "  -2.40024215e-03 +0.00000000e+00j  -2.96149138e-05 +0.00000000e+00j\n",
      "  -2.31113345e-03 +0.00000000e+00j  -1.63456044e-03 +6.74728559e-04j\n",
      "  -1.63456044e-03 -6.74728559e-04j  -1.42052409e-04 +0.00000000e+00j\n",
      "  -2.58155574e-04 +0.00000000e+00j  -3.77500114e-04 +0.00000000e+00j\n",
      "  -4.99665345e-04 +0.00000000e+00j  -6.24236317e-04 +0.00000000e+00j\n",
      "  -7.50806225e-04 +0.00000000e+00j  -8.78977470e-04 +0.00000000e+00j\n",
      "  -1.00835756e-03 +0.00000000e+00j  -2.21861380e-03 +0.00000000e+00j\n",
      "  -2.11887371e-03 +0.00000000e+00j  -2.01173107e-03 +0.00000000e+00j\n",
      "  -1.13854182e-03 +0.00000000e+00j  -1.89815695e-03 +0.00000000e+00j\n",
      "  -1.77909857e-03 +0.00000000e+00j  -1.26906948e-03 +0.00000000e+00j\n",
      "  -1.65551390e-03 +0.00000000e+00j  -1.39934163e-03 +0.00000000e+00j\n",
      "  -1.52852236e-03 +0.00000000e+00j  -1.58230760e-03 +0.00000000e+00j\n",
      "   5.68749298e-04 +0.00000000e+00j  -1.50845578e-03 +0.00000000e+00j\n",
      "   5.18223379e-04 +0.00000000e+00j  -1.44162724e-03 +0.00000000e+00j\n",
      "   4.76746647e-04 +0.00000000e+00j   4.41299194e-04 +0.00000000e+00j\n",
      "  -1.38050291e-03 +0.00000000e+00j   4.10286010e-04 +0.00000000e+00j\n",
      "   3.82977207e-04 +0.00000000e+00j   3.69787493e-04 +0.00000000e+00j\n",
      "   3.54127956e-04 +0.00000000e+00j   3.26846316e-04 +0.00000000e+00j\n",
      "   2.96257539e-04 +0.00000000e+00j   2.62313324e-04 +0.00000000e+00j\n",
      "   2.25193665e-04 +0.00000000e+00j   1.85138688e-04 +0.00000000e+00j\n",
      "   1.42378974e-04 +0.00000000e+00j   9.71314754e-05 +0.00000000e+00j\n",
      "   4.96044795e-05 +0.00000000e+00j   1.94186518e-09 +0.00000000e+00j\n",
      "  -5.14737081e-05 +0.00000000e+00j  -1.04619953e-04 +0.00000000e+00j\n",
      "  -1.59233422e-04 +0.00000000e+00j  -2.15109732e-04 +0.00000000e+00j\n",
      "  -1.32414291e-03 +0.00000000e+00j  -2.72043812e-04 +0.00000000e+00j\n",
      "  -3.29830634e-04 +0.00000000e+00j  -3.88266302e-04 +0.00000000e+00j\n",
      "  -4.47149433e-04 +0.00000000e+00j  -5.06282560e-04 +0.00000000e+00j\n",
      "  -1.27184641e-03 +0.00000000e+00j  -5.65472741e-04 +0.00000000e+00j\n",
      "  -6.24529092e-04 +0.00000000e+00j  -6.83251723e-04 +0.00000000e+00j\n",
      "  -7.41401456e-04 +0.00000000e+00j  -1.22307263e-03 +0.00000000e+00j\n",
      "  -7.98639443e-04 +0.00000000e+00j  -8.54454453e-04 +0.00000000e+00j\n",
      "  -9.08161984e-04 +0.00000000e+00j  -9.59049480e-04 +0.00000000e+00j\n",
      "  -1.17740506e-03 +0.00000000e+00j  -1.00659446e-03 +0.00000000e+00j\n",
      "  -1.05075951e-03 +0.00000000e+00j  -1.13392880e-03 +0.00000000e+00j\n",
      "  -1.14828016e-03 +0.00000000e+00j  -1.09254323e-03 +0.00000000e+00j\n",
      "  -8.92334443e-04 +2.58491050e-04j  -8.92334443e-04 -2.58491050e-04j\n",
      "  -7.75123655e-04 +0.00000000e+00j  -7.36565124e-04 +0.00000000e+00j\n",
      "   2.64946790e-04 +0.00000000e+00j  -7.02192068e-04 +0.00000000e+00j\n",
      "   2.41408592e-04 +0.00000000e+00j  -6.71087490e-04 +0.00000000e+00j\n",
      "   2.22086241e-04 +0.00000000e+00j   2.05572810e-04 +0.00000000e+00j\n",
      "  -6.42637551e-04 +0.00000000e+00j   1.91125187e-04 +0.00000000e+00j\n",
      "   1.78401644e-04 +0.00000000e+00j   1.72228209e-04 +0.00000000e+00j\n",
      "   1.64965809e-04 +0.00000000e+00j   1.52265569e-04 +0.00000000e+00j\n",
      "   1.38024972e-04 +0.00000000e+00j   1.22221989e-04 +0.00000000e+00j\n",
      "   1.04940271e-04 +0.00000000e+00j   8.62916463e-05 +0.00000000e+00j\n",
      "   6.63835220e-05 +0.00000000e+00j   4.53169489e-05 +0.00000000e+00j\n",
      "   2.31889345e-05 +0.00000000e+00j   9.44609675e-08 +0.00000000e+00j\n",
      "  -2.38722059e-05 +0.00000000e+00j  -6.16404861e-04 +0.00000000e+00j\n",
      "  -4.86167632e-05 +0.00000000e+00j  -7.40445127e-05 +0.00000000e+00j\n",
      "  -1.00060288e-04 +0.00000000e+00j  -1.26568601e-04 +0.00000000e+00j\n",
      "  -1.53473987e-04 +0.00000000e+00j  -1.80681506e-04 +0.00000000e+00j\n",
      "  -2.08097385e-04 +0.00000000e+00j  -5.92063283e-04 +0.00000000e+00j\n",
      "  -2.35629677e-04 +0.00000000e+00j  -2.63188538e-04 +0.00000000e+00j\n",
      "  -2.90685087e-04 +0.00000000e+00j  -3.18026271e-04 +0.00000000e+00j\n",
      "  -5.69361157e-04 +0.00000000e+00j  -3.45100799e-04 +0.00000000e+00j\n",
      "  -3.71751077e-04 +0.00000000e+00j  -3.97739356e-04 +0.00000000e+00j\n",
      "  -4.22747160e-04 +0.00000000e+00j  -4.46442695e-04 +0.00000000e+00j\n",
      "  -5.48104746e-04 +0.00000000e+00j  -4.68582321e-04 +0.00000000e+00j\n",
      "  -4.89147619e-04 +0.00000000e+00j  -5.08601889e-04 +0.00000000e+00j\n",
      "  -5.27868696e-04 +0.00000000e+00j  -5.34620439e-04 +0.00000000e+00j\n",
      "  -4.15451541e-04 +1.20360492e-04j  -4.15451541e-04 -1.20360492e-04j\n",
      "  -3.60884948e-04 +0.00000000e+00j  -3.42933995e-04 +0.00000000e+00j\n",
      "  -3.26931480e-04 +0.00000000e+00j   1.23397376e-04 +0.00000000e+00j\n",
      "  -3.12450521e-04 +0.00000000e+00j   1.12434366e-04 +0.00000000e+00j\n",
      "   1.03434912e-04 +0.00000000e+00j  -2.99205442e-04 +0.00000000e+00j\n",
      "   9.57437633e-05 +0.00000000e+00j  -2.86992496e-04 +0.00000000e+00j\n",
      "   8.90146817e-05 +0.00000000e+00j   8.31548610e-05 +0.00000000e+00j\n",
      "   8.20524843e-05 +0.00000000e+00j   7.72447752e-05 +0.00000000e+00j\n",
      "   7.14433650e-05 +0.00000000e+00j   6.50403025e-05 +0.00000000e+00j\n",
      "   5.79299621e-05 +0.00000000e+00j   5.01422026e-05 +0.00000000e+00j\n",
      "   4.17291761e-05 +0.00000000e+00j   3.27411227e-05 +0.00000000e+00j\n",
      "   2.32248507e-05 +0.00000000e+00j   1.32249984e-05 +0.00000000e+00j\n",
      "   2.78513925e-06 +0.00000000e+00j  -8.05149403e-06 +0.00000000e+00j\n",
      "  -1.92415660e-05 +0.00000000e+00j  -3.07413820e-05 +0.00000000e+00j\n",
      "  -4.25067538e-05 +0.00000000e+00j  -2.75659947e-04 +0.00000000e+00j\n",
      "  -5.44929472e-05 +0.00000000e+00j  -6.66546894e-05 +0.00000000e+00j\n",
      "  -7.89462210e-05 +0.00000000e+00j  -9.13213901e-05 +0.00000000e+00j\n",
      "  -1.03733793e-04 +0.00000000e+00j  -1.16136975e-04 +0.00000000e+00j\n",
      "  -2.65090589e-04 +0.00000000e+00j  -1.28484721e-04 +0.00000000e+00j\n",
      "  -1.40731481e-04 +0.00000000e+00j  -1.52832956e-04 +0.00000000e+00j\n",
      "  -1.64746753e-04 +0.00000000e+00j  -2.55191367e-04 +0.00000000e+00j\n",
      "  -1.76432316e-04 +0.00000000e+00j  -2.45883916e-04 +0.00000000e+00j\n",
      "  -1.87846596e-04 +0.00000000e+00j  -2.37065162e-04 +0.00000000e+00j\n",
      "  -1.98923754e-04 +0.00000000e+00j  -2.28436796e-04 +0.00000000e+00j\n",
      "  -2.09521103e-04 +0.00000000e+00j  -2.19392762e-04 +0.00000000e+00j\n",
      "  -2.17852288e-04 +3.27689674e-05j  -2.17852288e-04 -3.27689674e-05j\n",
      "  -1.74932966e-04 +0.00000000e+00j  -1.65487690e-04 +0.00000000e+00j\n",
      "   5.65939360e-05 +0.00000000e+00j  -1.57254554e-04 +0.00000000e+00j\n",
      "  -1.49921569e-04 +0.00000000e+00j  -1.43275103e-04 +0.00000000e+00j\n",
      "  -1.37205765e-04 +0.00000000e+00j   5.15662449e-05 +0.00000000e+00j\n",
      "  -1.31602710e-04 +0.00000000e+00j  -1.26407288e-04 +0.00000000e+00j\n",
      "  -1.21563170e-04 +0.00000000e+00j  -1.17022022e-04 +0.00000000e+00j\n",
      "   4.74387557e-05 +0.00000000e+00j  -1.12755422e-04 +0.00000000e+00j\n",
      "  -1.08732663e-04 +0.00000000e+00j  -1.04923226e-04 +0.00000000e+00j\n",
      "  -1.01263943e-04 +0.00000000e+00j  -9.76053213e-05 +0.00000000e+00j\n",
      "  -9.37622635e-05 +0.00000000e+00j  -8.96473490e-05 +0.00000000e+00j\n",
      "  -8.52688213e-05 +0.00000000e+00j  -8.06639608e-05 +0.00000000e+00j\n",
      "  -7.58702085e-05 +0.00000000e+00j  -7.09204728e-05 +0.00000000e+00j\n",
      "  -6.58438598e-05 +0.00000000e+00j  -6.06668246e-05 +0.00000000e+00j\n",
      "  -5.54139851e-05 +0.00000000e+00j  -5.01086218e-05 +0.00000000e+00j\n",
      "   4.39113037e-05 +0.00000000e+00j  -4.47732480e-05 +0.00000000e+00j\n",
      "  -3.94294463e-05 +0.00000000e+00j  -3.40983424e-05 +0.00000000e+00j\n",
      "   4.08249044e-05 +0.00000000e+00j  -2.88005559e-05 +0.00000000e+00j\n",
      "  -2.35562880e-05 +0.00000000e+00j   3.80817769e-05 +0.00000000e+00j\n",
      "  -1.83853670e-05 +0.00000000e+00j   3.56083786e-05 +0.00000000e+00j\n",
      "   3.32829693e-05 +0.00000000e+00j   3.08558608e-05 +0.00000000e+00j\n",
      "   2.81256369e-05 +0.00000000e+00j   2.50604921e-05 +0.00000000e+00j\n",
      "   2.16894801e-05 +0.00000000e+00j   1.80433612e-05 +0.00000000e+00j\n",
      "   1.41478519e-05 +0.00000000e+00j  -1.33072857e-05 +0.00000000e+00j\n",
      "   1.00252331e-05 +0.00000000e+00j  -8.34124116e-06 +0.00000000e+00j\n",
      "   5.69586295e-06 +0.00000000e+00j  -3.50618596e-06 +0.00000000e+00j\n",
      "   1.17909475e-06 +0.00000000e+00j   1.00000000e+00 +0.00000000e+00j]\n"
     ]
    },
    {
     "name": "stderr",
     "output_type": "stream",
     "text": [
      "/home/vinit/anaconda3/lib/python3.6/site-packages/numpy/core/numeric.py:531: ComplexWarning: Casting complex values to real discards the imaginary part\n",
      "  return array(a, dtype, copy=False, order=order)\n"
     ]
    },
    {
     "data": {
      "image/png": "[encoded data removed]",
      "text/plain": [
       "<matplotlib.figure.Figure at 0x7ff752e99400>"
      ]
     },
     "metadata": {},
     "output_type": "display_data"
    },
    {
     "data": {
      "image/png": "[encoded data removed]",
      "text/plain": [
       "<matplotlib.figure.Figure at 0x7ff752e7fb00>"
      ]
     },
     "metadata": {},
     "output_type": "display_data"
    }
   ],
   "source": [
    "print(A,'\\n')\n",
    "print(value)\n",
    "plt.plot(value)\n",
    "plt.show()\n",
    "#print(value)\n",
    "plt.plot(vector[n-2,:])\n",
    "plt.show()"
   ]
  },
  {
   "cell_type": "code",
   "execution_count": 143,
   "metadata": {},
   "outputs": [
    {
     "data": {
      "image/png": "[encoded data removed]",
      "text/plain": [
       "<matplotlib.figure.Figure at 0x7f927c157dd8>"
      ]
     },
     "metadata": {},
     "output_type": "display_data"
    },
    {
     "data": {
      "image/png": "[encoded data removed]",
      "text/plain": [
       "<matplotlib.figure.Figure at 0x7f9271253c50>"
      ]
     },
     "metadata": {},
     "output_type": "display_data"
    }
   ],
   "source": [
    "f0=vector[0,:]\n",
    "f0=f0/np.sum(f0*dv) #Normalising f0\n",
    "plt.plot(v,f0)\n",
    "plt.show()\n",
    "plt.loglog(v,f0)\n",
    "plt.show()"
   ]
  },
  {
   "cell_type": "code",
   "execution_count": 144,
   "metadata": {},
   "outputs": [
    {
     "data": {
      "image/png": "[encoded data removed]",
      "text/plain": [
       "<matplotlib.figure.Figure at 0x7f927124ca58>"
      ]
     },
     "metadata": {},
     "output_type": "display_data"
    }
   ],
   "source": [
    "f1=-q*E*(f0[1:]-f0[:n-1])/dv[:n-1]/(m*vm(v[:n-1]))\n",
    "plt.plot(v[:n-1],f1)\n",
    "plt.show()"
   ]
  },
  {
   "cell_type": "code",
   "execution_count": 145,
   "metadata": {
    "collapsed": true
   },
   "outputs": [],
   "source": [
    "W=np.sum(dv[:n-1]*f1[:n-1]*v[:n-1]*2/3)"
   ]
  },
  {
   "cell_type": "code",
   "execution_count": 146,
   "metadata": {
    "collapsed": true
   },
   "outputs": [],
   "source": [
    "eps=np.sum(0.5*m*v**2*f0*dv)"
   ]
  },
  {
   "cell_type": "code",
   "execution_count": 147,
   "metadata": {},
   "outputs": [
    {
     "data": {
      "text/plain": [
       "0.12489069115343238"
      ]
     },
     "execution_count": 147,
     "metadata": {},
     "output_type": "execute_result"
    }
   ],
   "source": [
    "np.sum(f1*dv[:n-1])"
   ]
  },
  {
   "cell_type": "code",
   "execution_count": 148,
   "metadata": {},
   "outputs": [
    {
     "name": "stdout",
     "output_type": "stream",
     "text": [
      "0.654942857652 4.02588697377\n"
     ]
    }
   ],
   "source": [
    "print(W/1e4,eps/1.6e-19)"
   ]
  },
  {
   "cell_type": "code",
   "execution_count": 149,
   "metadata": {
    "collapsed": true
   },
   "outputs": [],
   "source": [
    "W0=0.593e4\n",
    "eps0=0.7291*1.6e-19"
   ]
  },
  {
   "cell_type": "code",
   "execution_count": 150,
   "metadata": {},
   "outputs": [
    {
     "data": {
      "text/plain": [
       "2.9633694887195528e-14"
      ]
     },
     "execution_count": 150,
     "metadata": {},
     "output_type": "execute_result"
    }
   ],
   "source": [
    "vm(v[:n-1])"
   ]
  },
  {
   "cell_type": "code",
   "execution_count": null,
   "metadata": {
    "collapsed": true
   },
   "outputs": [],
   "source": []
  }
 ],
 "metadata": {
  "kernelspec": {
   "display_name": "Python 3",
   "language": "python",
   "name": "python3"
  },
  "language_info": {
   "codemirror_mode": {
    "name": "ipython",
    "version": 3
   },
   "file_extension": ".py",
   "mimetype": "text/x-python",
   "name": "python",
   "nbconvert_exporter": "python",
   "pygments_lexer": "ipython3",
   "version": "3.6.3"
  }
 },
 "nbformat": 4,
 "nbformat_minor": 2
}
