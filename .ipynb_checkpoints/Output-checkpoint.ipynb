{
 "cells": [
  {
   "cell_type": "code",
   "execution_count": 97,
   "metadata": {
    "collapsed": true
   },
   "outputs": [],
   "source": [
    "import numpy as np\n",
    "import matplotlib.pyplot as plt"
   ]
  },
  {
   "cell_type": "code",
   "execution_count": 98,
   "metadata": {
    "collapsed": true
   },
   "outputs": [],
   "source": [
    "f=open(\"Hard.dat\",\"r\")"
   ]
  },
  {
   "cell_type": "code",
   "execution_count": 99,
   "metadata": {},
   "outputs": [
    {
     "name": "stdout",
     "output_type": "stream",
     "text": [
      "[   0.1       0.1334    0.1778    0.2371    0.3162    0.4217    0.5623\n",
      "    0.7499    1.        1.334     1.778     2.371     3.162     4.217\n",
      "    5.623     7.499    10.       13.34     17.78     23.71     31.62\n",
      "   42.17     56.23     74.99    100.    ] [  0.0964   0.1202   0.1522   0.1951   0.2526   0.3293   0.4317   0.5684\n",
      "   0.7507   0.9939   1.318    1.751    2.328    3.097    4.122    5.49\n",
      "   7.314    9.746   12.99    17.32    23.08    30.78    41.03    54.71\n",
      "  72.95  ]\n"
     ]
    }
   ],
   "source": [
    "for line in f:\n",
    "    if line[:8]=='E/N (Td)' and line[8:].strip()=='Mean energy (eV)':\n",
    "        a=np.zeros(25)\n",
    "        b=np.zeros(25)\n",
    "        for i in range(25):\n",
    "            l=f.readline().strip()\n",
    "            if len(l)==0: break\n",
    "            a[i], b[i] = [float(x) for x in l.split()]\n",
    "\n",
    "print(a,b)"
   ]
  },
  {
   "cell_type": "code",
   "execution_count": 102,
   "metadata": {},
   "outputs": [
    {
     "data": {
      "image/png": "[encoded data removed]",
      "text/plain": [
       "<matplotlib.figure.Figure at 0x7fda11595ef0>"
      ]
     },
     "metadata": {},
     "output_type": "display_data"
    }
   ],
   "source": [
    "plt.plot(a,b)\n",
    "plt.show()"
   ]
  },
  {
   "cell_type": "code",
   "execution_count": null,
   "metadata": {
    "collapsed": true
   },
   "outputs": [],
   "source": []
  }
 ],
 "metadata": {
  "kernelspec": {
   "display_name": "Python 3",
   "language": "python",
   "name": "python3"
  },
  "language_info": {
   "codemirror_mode": {
    "name": "ipython",
    "version": 3
   },
   "file_extension": ".py",
   "mimetype": "text/x-python",
   "name": "python",
   "nbconvert_exporter": "python",
   "pygments_lexer": "ipython3",
   "version": "3.6.3"
  }
 },
 "nbformat": 4,
 "nbformat_minor": 2
}
