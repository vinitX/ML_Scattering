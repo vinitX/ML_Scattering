{
 "cells": [
  {
   "cell_type": "code",
   "execution_count": 111,
   "metadata": {
    "collapsed": true
   },
   "outputs": [],
   "source": [
    "import numpy as np\n",
    "import matplotlib.pyplot as plt"
   ]
  },
  {
   "cell_type": "code",
   "execution_count": 112,
   "metadata": {
    "collapsed": true
   },
   "outputs": [],
   "source": [
    "n0=1\n",
    "k=1.381e-23\n",
    "T0=0\n",
    "m0=4*1.66054e-27\n",
    "m=9.11e-31\n",
    "E=1e-21*n0\n",
    "q=1.602e-19"
   ]
  },
  {
   "cell_type": "code",
   "execution_count": 113,
   "metadata": {
    "collapsed": true
   },
   "outputs": [],
   "source": [
    "def sigma(v):\n",
    "    return 5e-20*np.sqrt(2*1.602e-19/m)/v\n",
    "def vm(v):\n",
    "    return n0*v*sigma(v)\n",
    "def dvm(v):\n",
    "    return 0#n0*sigma(v)"
   ]
  },
  {
   "cell_type": "code",
   "execution_count": 114,
   "metadata": {
    "collapsed": true
   },
   "outputs": [],
   "source": [
    "def a(v):\n",
    "    return q**2*E**2/(3*vm(v)*m**2) + k*T0*vm(v)/m0\n",
    "def b(v):\n",
    "    return (2*vm(v)+v*dvm(v))*(k*T0/(m0*v)) +m*v*vm(v)/m0 +q**2*E**2*(2/v-dvm(v)/vm(v))/(3*m**2*vm(v)) #(k*T0*(2*v*vm(v)+v**2*dvm(v))/m + v**3*vm(v))*m/(m0*v**2) -q*E*(v**2*q*E*dvm(v)/(m*vm(v)**2) - 2*v*q*E/(m*vm(v)))/(3*m*v**2)\n",
    "def c(v):\n",
    "    return (m/m0)*(3*vm(v)+v*dvm(v))"
   ]
  },
  {
   "cell_type": "code",
   "execution_count": 115,
   "metadata": {
    "collapsed": true
   },
   "outputs": [],
   "source": [
    "def F(f,g,v):\n",
    "    return g\n",
    "def G(f,g,v):\n",
    "    return -b(v)*g/a(v)-c(v)*f/a(v)"
   ]
  },
  {
   "cell_type": "code",
   "execution_count": 116,
   "metadata": {
    "collapsed": true
   },
   "outputs": [],
   "source": [
    "def Runge(n):\n",
    "    B=np.zeros((n,1))\n",
    "    A=np.zeros((n,n))\n",
    "\n",
    "    vmin=4e3\n",
    "    vmax=2*np.sqrt(24*1.602e-19/m)\n",
    "    v=np.logspace(np.log10(vmin),np.log10(vmax),n)\n",
    "    v=np.reshape(v,(n,1))\n",
    "\n",
    "    dv=v[:n-1]-v[1:]#v*((np.sqrt(24*1.602e-19/m)/1e-10)**(1/(n-1))-1)\n",
    "\n",
    "\n",
    "    f=np.zeros(n)\n",
    "    g=-np.ones(n)\n",
    "    for i in range(n-1,0,-1):\n",
    "        k11=dv[i-1]*F(f[i],g[i],v[i])\n",
    "        k21=dv[i-1]*G(f[i],g[i],v[i])\n",
    "        k12=dv[i-1]*F(f[i]+0.5*k11,g[i]+0.5*k21,v[i]+0.5*dv[i-1])\n",
    "        k22=dv[i-1]*G(f[i]+0.5*k11,g[i]+0.5*k21,v[i]+0.5*dv[i-1])\n",
    "        k13=dv[i-1]*F(f[i]+0.5*k12,g[i]+0.5*k22,v[i]+0.5*dv[i-1])\n",
    "        k23=dv[i-1]*G(f[i]+0.5*k12,g[i]+0.5*k22,v[i]+0.5*dv[i-1])\n",
    "        k14=dv[i-1]*F(f[i]+k13,g[i]+k23,v[i]+dv[i-1]) #v[i-1]) #v[i]+dv[i]);\n",
    "        k24=dv[i-1]*G(f[i]+k13,g[i]+k23,v[i]+dv[i-1]) #v[i-1]) #v[i]+dv[i]);\n",
    "        f[i-1]=f[i]+(k11+2*k12+2*k13+k14)/6\n",
    "        g[i-1]=g[i]+(k21+2*k22+2*k23+k24)/6\n",
    "        norm=np.max(np.abs(f)) \n",
    "        f=f/norm\n",
    "        g=g/norm\n",
    "\n",
    "    #plt.semilogx(v,f)\n",
    "    #plt.show()\n",
    "    #plt.loglog(v,np.abs(g)+1e-17)\n",
    "    #plt.show()\n",
    "\n",
    "\n",
    "    f=np.reshape(f[:n-1],(n-1,1))\n",
    "    g=np.reshape(g[:n-1],(n-1,1))\n",
    "    dv=np.abs(dv)\n",
    "    v=v[:n-1]\n",
    "\n",
    "    f0=f/np.sum(f*dv) #Normalising f0\n",
    "\n",
    "    #print(np.shape(dv))\n",
    "    #plt.semilogx(v,f0)\n",
    "    #plt.show()\n",
    "\n",
    "    eps=np.sum(0.5*m*v**2*f0*dv)*3/1.602e-19\n",
    "    #plt.semilogx(v,(v**2*f0*dv))\n",
    "    #plt.show()\n",
    "\n",
    "    f1=-q*E*g/(m*vm(v))/np.sum(f*dv) #Normalising f1\n",
    "    #plt.semilogx(v,f1)\n",
    "    #plt.show()\n",
    "\n",
    "    W=np.sum(dv*f1*v)/1e4\n",
    "    #plt.plot(dv*f1*v)\n",
    "    #plt.show()\n",
    "    return [eps,W]"
   ]
  },
  {
   "cell_type": "code",
   "execution_count": 117,
   "metadata": {},
   "outputs": [
    {
     "name": "stdout",
     "output_type": "stream",
     "text": [
      "[  10   12   14   17   21   26   31   38   46   56   68   82  100  121  146\n",
      "  177  215  261  316  383  464  562  681  825 1000]\n",
      "[ 8.13065108  7.23429811  4.94519718  3.54226976  2.40750957  1.74326155\n",
      "  1.43096596  1.22942625  1.13203078  1.08285807  1.06155954  1.0542122\n",
      "  1.05330701  1.05541832  1.05854633  1.06194238  1.06515537  1.0679842\n",
      "  1.0703772   1.07240855  1.07410276  1.07551015  1.0766796   1.07764603\n",
      "  1.07844702] [-46.52792003 -26.32634047 -17.26469118  -9.19394172  -4.26140561\n",
      "  -1.60378365  -0.42751527   0.30732784   0.66251367   0.85233659\n",
      "   0.94925878   0.99916642   1.02826464   1.04432955   1.05419545\n",
      "   1.06094539   1.06577119   1.06935886   1.07210556   1.07430503\n",
      "   1.07607816   1.07752258   1.07870943   1.07968398   1.08048876]\n"
     ]
    }
   ],
   "source": [
    "n=np.logspace(1,3,25).astype(int)\n",
    "print(n)\n",
    "eps=np.zeros(25)\n",
    "W=np.zeros(25)\n",
    "for i in range(25):\n",
    "    [eps[i],W[i]]=Runge(n[i])\n",
    "W0=0.5931\n",
    "eps0=0.72916\n",
    "print(100*(1-W0/W),100*(1-eps0/eps))"
   ]
  },
  {
   "cell_type": "code",
   "execution_count": 118,
   "metadata": {},
   "outputs": [
    {
     "data": {
      "image/png": "[encoded data removed]",
      "text/plain": [
       "<matplotlib.figure.Figure at 0x7f58706b3a90>"
      ]
     },
     "metadata": {},
     "output_type": "display_data"
    },
    {
     "data": {
      "image/png": "[encoded data removed]",
      "text/plain": [
       "<matplotlib.figure.Figure at 0x7f5870676588>"
      ]
     },
     "metadata": {},
     "output_type": "display_data"
    }
   ],
   "source": [
    "plt.loglog(n,100*np.abs(1-W0/W))\n",
    "plt.show()\n",
    "plt.loglog(n,100*np.abs(1-eps0/eps))\n",
    "plt.show()"
   ]
  },
  {
   "cell_type": "code",
   "execution_count": 119,
   "metadata": {},
   "outputs": [
    {
     "data": {
      "text/plain": [
       "8.6653874018019795e-09"
      ]
     },
     "execution_count": 119,
     "metadata": {},
     "output_type": "execute_result"
    }
   ],
   "source": [
    "q**2*E**2*m0/(6*m*k**2*293**2*n0**2*sigma(2)**2)"
   ]
  },
  {
   "cell_type": "code",
   "execution_count": null,
   "metadata": {
    "collapsed": true
   },
   "outputs": [],
   "source": []
  },
  {
   "cell_type": "code",
   "execution_count": 120,
   "metadata": {},
   "outputs": [
    {
     "data": {
      "text/plain": [
       "6.9524830852511166e-07"
      ]
     },
     "execution_count": 120,
     "metadata": {},
     "output_type": "execute_result"
    }
   ],
   "source": [
    "q**2*E**2/(3*m**2*n0*sigma(2))"
   ]
  },
  {
   "cell_type": "code",
   "execution_count": 121,
   "metadata": {},
   "outputs": [
    {
     "data": {
      "text/plain": [
       "4108730.7646228252"
      ]
     },
     "execution_count": 121,
     "metadata": {},
     "output_type": "execute_result"
    }
   ],
   "source": [
    "vmax"
   ]
  },
  {
   "cell_type": "code",
   "execution_count": null,
   "metadata": {
    "collapsed": true
   },
   "outputs": [],
   "source": []
  }
 ],
 "metadata": {
  "kernelspec": {
   "display_name": "Python 3",
   "language": "python",
   "name": "python3"
  },
  "language_info": {
   "codemirror_mode": {
    "name": "ipython",
    "version": 3
   },
   "file_extension": ".py",
   "mimetype": "text/x-python",
   "name": "python",
   "nbconvert_exporter": "python",
   "pygments_lexer": "ipython3",
   "version": "3.6.3"
  }
 },
 "nbformat": 4,
 "nbformat_minor": 2
}
