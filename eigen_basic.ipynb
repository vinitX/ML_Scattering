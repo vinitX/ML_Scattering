{
 "cells": [
  {
   "cell_type": "code",
   "execution_count": 33,
   "metadata": {
    "collapsed": true
   },
   "outputs": [],
   "source": [
    "import numpy as np\n",
    "import matplotlib.pyplot as plt"
   ]
  },
  {
   "cell_type": "code",
   "execution_count": 34,
   "metadata": {
    "collapsed": true
   },
   "outputs": [],
   "source": [
    "def a(v):\n",
    "    return 1e-30\n",
    "def b(v):\n",
    "    return v+1/v\n",
    "def c(v):\n",
    "    return 1e-12"
   ]
  },
  {
   "cell_type": "code",
   "execution_count": 35,
   "metadata": {
    "collapsed": true
   },
   "outputs": [],
   "source": [
    "n=100\n",
    "v=np.arange(0,100,100/n)\n",
    "dv=np.ones(n)*100/n\n",
    "\n",
    "A=np.zeros((n,n))"
   ]
  },
  {
   "cell_type": "code",
   "execution_count": 36,
   "metadata": {
    "collapsed": true
   },
   "outputs": [],
   "source": [
    "def alpha(i):\n",
    "    return a(v[i])/dv[i-1]**2\n",
    "def beta(i):\n",
    "    return -(2*a(v[i])/dv[i-1]**2+b(v[i])/dv[i-1])\n",
    "def gamma(i):\n",
    "    return a(v[i])/dv[i-1]**2+b(v[i])/dv[i-1]+c(v[i])"
   ]
  },
  {
   "cell_type": "code",
   "execution_count": 41,
   "metadata": {
    "collapsed": true
   },
   "outputs": [],
   "source": [
    "A[0,0]=1\n",
    "A[0,1]=-1\n",
    "for i in range(1,n-1):\n",
    "    A[i,i-1]=alpha(i)\n",
    "    A[i,i]=beta(i)\n",
    "    A[i,i+1]=gamma(i)\n",
    "A[n-1,n-1]=1"
   ]
  },
  {
   "cell_type": "code",
   "execution_count": 42,
   "metadata": {
    "collapsed": true
   },
   "outputs": [],
   "source": [
    "#value, vector=np.linalg.eig(A)"
   ]
  },
  {
   "cell_type": "code",
   "execution_count": 43,
   "metadata": {},
   "outputs": [
    {
     "data": {
      "text/plain": [
       "\"print(A,'\\n')\\nprint(value)\\nplt.plot(value)\\nplt.show()\""
      ]
     },
     "execution_count": 43,
     "metadata": {},
     "output_type": "execute_result"
    }
   ],
   "source": [
    "'''print(A,'\\n')\n",
    "print(value)\n",
    "plt.plot(value)\n",
    "plt.show()'''"
   ]
  },
  {
   "cell_type": "code",
   "execution_count": 44,
   "metadata": {},
   "outputs": [
    {
     "data": {
      "image/png": "[encoded data removed]",
      "text/plain": [
       "<matplotlib.figure.Figure at 0x7f99c960d208>"
      ]
     },
     "metadata": {},
     "output_type": "display_data"
    }
   ],
   "source": [
    "import scipy\n",
    "from scipy import linalg, matrix\n",
    "def null(A, eps=1e-15):\n",
    "    u, s, vh = scipy.linalg.svd(A)\n",
    "    null_mask = (s <= eps)\n",
    "    null_space = scipy.compress(null_mask, vh, axis=0)\n",
    "    return scipy.transpose(null_space)\n",
    "\n",
    "plt.plot(null(A,0.1))\n",
    "plt.show()"
   ]
  },
  {
   "cell_type": "code",
   "execution_count": null,
   "metadata": {
    "collapsed": true
   },
   "outputs": [],
   "source": []
  }
 ],
 "metadata": {
  "kernelspec": {
   "display_name": "Python 3",
   "language": "python",
   "name": "python3"
  },
  "language_info": {
   "codemirror_mode": {
    "name": "ipython",
    "version": 3
   },
   "file_extension": ".py",
   "mimetype": "text/x-python",
   "name": "python",
   "nbconvert_exporter": "python",
   "pygments_lexer": "ipython3",
   "version": "3.6.3"
  }
 },
 "nbformat": 4,
 "nbformat_minor": 2
}
